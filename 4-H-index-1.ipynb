{
 "cells": [
  {
   "cell_type": "markdown",
   "metadata": {},
   "source": [
    "# Resaercher Evaluation - H-index\n",
    "\n",
    "第三章で研究評価についての事例を見たが、本章では研究者評価を行う。研究者評価の指標の一つとして、h-indexを取り上げる。\n",
    "\n",
    "本章の目的：\n",
    "* pyalexの関数について理解する\n",
    "* APIを使って、その他のデータベースと組み合わせてデータを分析する\n",
    "* 研究者を評価する指標について考察する"
   ]
  },
  {
   "cell_type": "markdown",
   "metadata": {},
   "source": [
    "# 説明"
   ]
  },
  {
   "cell_type": "markdown",
   "metadata": {},
   "source": [
    "## h-index（h指数）とは何か？"
   ]
  },
  {
   "cell_type": "markdown",
   "metadata": {},
   "source": [
    "h-indexはアメリカの物理学者Jorge E. Hirsch氏が2005年に発表した研究者の評価指標です。\n",
    "\n",
    "> Abstract: I propose the index h, defined as the number of papers with citation number ≥h, as a useful index to characterize the scientific output of a researcher. \n",
    "> (要旨：私は、研究者の科学的産出を特徴づける有用な指標として、被引用数がhより大きい論文の数と定義される指数hを提案した。)\n",
    "> \n",
    "> Hirsch, J. E. (2005). An index to quantify an individual's scientific research output. Proceedings of the National Academy of Sciences, 102(46), 16569-16572. https://www.pnas.org/doi/abs/10.1073/pnas.0507655102\n",
    "\n",
    "ある科学者が発表したN本論文の中で、**h回以上引用された論文がh本あり**、それ以外のN-h本論文の被引用数が全部hより小さい場合、その科学者の**h-indexはh**です。\n",
    " \n",
    "例えば、h-index=**20**というのは、被引用数が**20**以上の論文が**20**本あり、それ以外の論文はすべて被引用数が20本未満だということです。"
   ]
  },
  {
   "cell_type": "markdown",
   "metadata": {},
   "source": [
    "## なぜ提案したのか？どうして重要なのか？"
   ]
  },
  {
   "cell_type": "markdown",
   "metadata": {},
   "source": [
    "リソースが限られた世界で、個人の科学的成果の累積的影響力を定量化することは、評価や比較のために必要とされます。\n",
    "\n",
    "|指数|長所|短所|\n",
    "|:-|:-|:-|\n",
    "|発表論文数(N)|研究者の生産力を測る|論文の影響力が無視される|\n",
    "|総被引用数(C)|研究者の総影響力を測る|1. 少数の大ヒット論文に歪まれる可能性があり、特に、これらの大ヒットが共著である場合、個人のキャリア全体を代表していない可能性がある。<br>2. 引用度の高いレビューに過度な重みを与えている。|\n",
    "|平均被引用数(C/N)|異なる年齢の科学者を比較することができる|1. 生産性が高い研究者に不利になる。2. 高被引用数の論文に歪まれる可能性がある。|\n",
    "|被引用数≥cの論文数|上記の指標の欠点を克服し、広範囲かつ持続的な影響を測る。|cは任意であり、一部の科学者に有利な一方で他の科学者には不利になる。|\n",
    "|上位q個の論文の被引用数|上記の指標の欠点をほとんど克服する。|1. 単一の数値ではないため、科学者を比較するには困難である。<br>2. qは任意であり、一部の科学者に有利な一方で他の科学者には不利になる。|\n"
   ]
  },
  {
   "cell_type": "markdown",
   "metadata": {},
   "source": [
    "## 0. 準備：pyalex"
   ]
  },
  {
   "cell_type": "code",
   "execution_count": null,
   "metadata": {},
   "outputs": [],
   "source": [
    "import sys\n",
    "import os\n",
    "\n",
    "%cd /content/sample_data/\n",
    "!git clone https://github.com/ScisciJP/scisciJP2024_tutorial.git\n",
    "\n",
    "sys.path.append('/content/sample_data/scisciJP2024_tutorial')\n",
    "print(os.getcwd())\n",
    "os.chdir('/content/sample_data/scisciJP2024_tutorial')\n",
    "sys.path\n"
   ]
  },
  {
   "cell_type": "code",
   "execution_count": 3,
   "metadata": {},
   "outputs": [
    {
     "name": "stdout",
     "output_type": "stream",
     "text": [
      "Defaulting to user installation because normal site-packages is not writeable\n",
      "Requirement already satisfied: pyalex in /Users/ti/Library/Python/3.9/lib/python/site-packages (0.13)\n",
      "Requirement already satisfied: requests in /Users/ti/Library/Python/3.9/lib/python/site-packages (from pyalex) (2.31.0)\n",
      "Requirement already satisfied: urllib3 in /Users/ti/Library/Python/3.9/lib/python/site-packages (from pyalex) (2.0.7)\n",
      "Requirement already satisfied: charset-normalizer<4,>=2 in /Users/ti/Library/Python/3.9/lib/python/site-packages (from requests->pyalex) (3.3.1)\n",
      "Requirement already satisfied: idna<4,>=2.5 in /Users/ti/Library/Python/3.9/lib/python/site-packages (from requests->pyalex) (3.4)\n",
      "Requirement already satisfied: certifi>=2017.4.17 in /Users/ti/Library/Python/3.9/lib/python/site-packages (from requests->pyalex) (2023.7.22)\n",
      "\n",
      "\u001b[1m[\u001b[0m\u001b[34;49mnotice\u001b[0m\u001b[1;39;49m]\u001b[0m\u001b[39;49m A new release of pip is available: \u001b[0m\u001b[31;49m23.3.1\u001b[0m\u001b[39;49m -> \u001b[0m\u001b[32;49m24.0\u001b[0m\n",
      "\u001b[1m[\u001b[0m\u001b[34;49mnotice\u001b[0m\u001b[1;39;49m]\u001b[0m\u001b[39;49m To update, run: \u001b[0m\u001b[32;49m/Library/Developer/CommandLineTools/usr/bin/python3 -m pip install --upgrade pip\u001b[0m\n",
      "Note: you may need to restart the kernel to use updated packages.\n"
     ]
    }
   ],
   "source": [
    "%pip install pyalex\n",
    "\n",
    "import pandas as pd\n",
    "import numpy as np\n",
    "import matplotlib.pyplot as plt\n",
    "import pyalex\n",
    "from pyalex import Works, Authors, Institutions\n",
    "from pprint import pprint\n",
    "import util\n",
    "import tqdm\n",
    "\n",
    "pyalex.config.email = \"your@email.address\""
   ]
  },
  {
   "cell_type": "markdown",
   "metadata": {},
   "source": [
    "## １. h-indexの計算方法：Stephen Hawkingを例に"
   ]
  },
  {
   "cell_type": "markdown",
   "metadata": {},
   "source": [
    "理論物理学者Stephen Hawkingを例に、h-indexの計算方法を示します。このセクションでは、お家に帰ったあともpyalexを触ってみられるように、pyalexの基本的な使い方について少し細かく説明します。要点を抑えれば非常にシンプルですので、ぜひ試してみてください。\n",
    "\n",
    "- citations_test: 論文の発表日順に並べた被引用数のリスト。\n",
    "- sorted_citations_test: 被引用数が大きい順に並べた被引用数のリスト。"
   ]
  },
  {
   "cell_type": "code",
   "execution_count": 34,
   "metadata": {},
   "outputs": [
    {
     "data": {
      "text/html": [
       "<div>\n",
       "<style scoped>\n",
       "    .dataframe tbody tr th:only-of-type {\n",
       "        vertical-align: middle;\n",
       "    }\n",
       "\n",
       "    .dataframe tbody tr th {\n",
       "        vertical-align: top;\n",
       "    }\n",
       "\n",
       "    .dataframe thead th {\n",
       "        text-align: right;\n",
       "    }\n",
       "</style>\n",
       "<table border=\"1\" class=\"dataframe\">\n",
       "  <thead>\n",
       "    <tr style=\"text-align: right;\">\n",
       "      <th></th>\n",
       "      <th>id</th>\n",
       "      <th>orcid</th>\n",
       "      <th>display_name</th>\n",
       "      <th>display_name_alternatives</th>\n",
       "      <th>relevance_score</th>\n",
       "      <th>works_count</th>\n",
       "      <th>cited_by_count</th>\n",
       "      <th>summary_stats</th>\n",
       "      <th>ids</th>\n",
       "      <th>affiliations</th>\n",
       "      <th>last_known_institution</th>\n",
       "      <th>last_known_institutions</th>\n",
       "      <th>x_concepts</th>\n",
       "      <th>counts_by_year</th>\n",
       "      <th>works_api_url</th>\n",
       "      <th>updated_date</th>\n",
       "      <th>created_date</th>\n",
       "    </tr>\n",
       "  </thead>\n",
       "  <tbody>\n",
       "    <tr>\n",
       "      <th>0</th>\n",
       "      <td>https://openalex.org/A5066175077</td>\n",
       "      <td>None</td>\n",
       "      <td>S. W. Hawking</td>\n",
       "      <td>[Stephen Hawking, S. W Hawking, Stephen W. Haw...</td>\n",
       "      <td>33953.220000</td>\n",
       "      <td>415</td>\n",
       "      <td>72096</td>\n",
       "      <td>{'2yr_mean_citedness': 0.0, 'h_index': 92, 'i1...</td>\n",
       "      <td>{'openalex': 'https://openalex.org/A5066175077'}</td>\n",
       "      <td>[{'institution': {'id': 'https://openalex.org/...</td>\n",
       "      <td>{'id': 'https://openalex.org/I241749', 'ror': ...</td>\n",
       "      <td>[{'id': 'https://openalex.org/I241749', 'ror':...</td>\n",
       "      <td>[{'id': 'https://openalex.org/C121332964', 'wi...</td>\n",
       "      <td>[{'year': 2024, 'works_count': 0, 'cited_by_co...</td>\n",
       "      <td>https://api.openalex.org/works?filter=author.i...</td>\n",
       "      <td>2024-03-12T03:05:06.731185</td>\n",
       "      <td>2023-07-21</td>\n",
       "    </tr>\n",
       "    <tr>\n",
       "      <th>1</th>\n",
       "      <td>https://openalex.org/A5016634951</td>\n",
       "      <td>None</td>\n",
       "      <td>Stephen Hawking</td>\n",
       "      <td>[Stephen Hawking Lucy Hawking, S. Hawking, Ste...</td>\n",
       "      <td>2805.859100</td>\n",
       "      <td>53</td>\n",
       "      <td>221</td>\n",
       "      <td>{'2yr_mean_citedness': 0.0, 'h_index': 8, 'i10...</td>\n",
       "      <td>{'openalex': 'https://openalex.org/A5016634951'}</td>\n",
       "      <td>[{'institution': {'id': 'https://openalex.org/...</td>\n",
       "      <td>{'id': 'https://openalex.org/I1325620243', 'ro...</td>\n",
       "      <td>[{'id': 'https://openalex.org/I1325620243', 'r...</td>\n",
       "      <td>[{'id': 'https://openalex.org/C121332964', 'wi...</td>\n",
       "      <td>[{'year': 2023, 'works_count': 0, 'cited_by_co...</td>\n",
       "      <td>https://api.openalex.org/works?filter=author.i...</td>\n",
       "      <td>2024-03-01T01:35:49.680102</td>\n",
       "      <td>2023-07-21</td>\n",
       "    </tr>\n",
       "    <tr>\n",
       "      <th>2</th>\n",
       "      <td>https://openalex.org/A5011605021</td>\n",
       "      <td>https://orcid.org/0000-0002-6811-2573</td>\n",
       "      <td>Stephen H. Daniel</td>\n",
       "      <td>[Stephen H. Daniel, Stephen Hawking Jennifer D...</td>\n",
       "      <td>2087.937700</td>\n",
       "      <td>105</td>\n",
       "      <td>353</td>\n",
       "      <td>{'2yr_mean_citedness': 0.13043478260869565, 'h...</td>\n",
       "      <td>{'openalex': 'https://openalex.org/A5011605021...</td>\n",
       "      <td>[{'institution': {'id': 'https://openalex.org/...</td>\n",
       "      <td>{'id': 'https://openalex.org/I91045830', 'ror'...</td>\n",
       "      <td>[{'id': 'https://openalex.org/I91045830', 'ror...</td>\n",
       "      <td>[{'id': 'https://openalex.org/C138885662', 'wi...</td>\n",
       "      <td>[{'year': 2023, 'works_count': 2, 'cited_by_co...</td>\n",
       "      <td>https://api.openalex.org/works?filter=author.i...</td>\n",
       "      <td>2024-03-10T18:59:18.397849</td>\n",
       "      <td>2023-07-21</td>\n",
       "    </tr>\n",
       "    <tr>\n",
       "      <th>3</th>\n",
       "      <td>https://openalex.org/A5068752385</td>\n",
       "      <td>None</td>\n",
       "      <td>STEPHEN HAWKING</td>\n",
       "      <td>[STEPHEN HAWKING]</td>\n",
       "      <td>311.661350</td>\n",
       "      <td>1</td>\n",
       "      <td>1</td>\n",
       "      <td>{'2yr_mean_citedness': 0.0, 'h_index': 1, 'i10...</td>\n",
       "      <td>{'openalex': 'https://openalex.org/A5068752385'}</td>\n",
       "      <td>[]</td>\n",
       "      <td>None</td>\n",
       "      <td>[]</td>\n",
       "      <td>[{'id': 'https://openalex.org/C17744445', 'wik...</td>\n",
       "      <td>[]</td>\n",
       "      <td>https://api.openalex.org/works?filter=author.i...</td>\n",
       "      <td>2024-02-14T02:15:34.318278</td>\n",
       "      <td>2023-07-21</td>\n",
       "    </tr>\n",
       "    <tr>\n",
       "      <th>4</th>\n",
       "      <td>https://openalex.org/A5063381111</td>\n",
       "      <td>None</td>\n",
       "      <td>Stephen W Hawking</td>\n",
       "      <td>[Stephen W Hawking]</td>\n",
       "      <td>250.872450</td>\n",
       "      <td>2</td>\n",
       "      <td>3</td>\n",
       "      <td>{'2yr_mean_citedness': 0.0, 'h_index': 1, 'i10...</td>\n",
       "      <td>{'openalex': 'https://openalex.org/A5063381111'}</td>\n",
       "      <td>[]</td>\n",
       "      <td>None</td>\n",
       "      <td>[]</td>\n",
       "      <td>[{'id': 'https://openalex.org/C15708023', 'wik...</td>\n",
       "      <td>[]</td>\n",
       "      <td>https://api.openalex.org/works?filter=author.i...</td>\n",
       "      <td>2023-12-23T21:32:44.824656</td>\n",
       "      <td>2023-07-21</td>\n",
       "    </tr>\n",
       "    <tr>\n",
       "      <th>5</th>\n",
       "      <td>https://openalex.org/A5074821306</td>\n",
       "      <td>None</td>\n",
       "      <td>STEPHEN HAWKING</td>\n",
       "      <td>[STEPHEN HAWKING]</td>\n",
       "      <td>79.967050</td>\n",
       "      <td>1</td>\n",
       "      <td>0</td>\n",
       "      <td>{'2yr_mean_citedness': 0.0, 'h_index': 0, 'i10...</td>\n",
       "      <td>{'openalex': 'https://openalex.org/A5074821306'}</td>\n",
       "      <td>[]</td>\n",
       "      <td>None</td>\n",
       "      <td>[]</td>\n",
       "      <td>[{'id': 'https://openalex.org/C78519656', 'wik...</td>\n",
       "      <td>[]</td>\n",
       "      <td>https://api.openalex.org/works?filter=author.i...</td>\n",
       "      <td>2023-12-23T10:40:59.474311</td>\n",
       "      <td>2023-07-21</td>\n",
       "    </tr>\n",
       "    <tr>\n",
       "      <th>6</th>\n",
       "      <td>https://openalex.org/A5028378314</td>\n",
       "      <td>None</td>\n",
       "      <td>Prof-Stephen-Hawking</td>\n",
       "      <td>[Prof‐Stephen‐Hawking]</td>\n",
       "      <td>77.143050</td>\n",
       "      <td>1</td>\n",
       "      <td>0</td>\n",
       "      <td>{'2yr_mean_citedness': 0.0, 'h_index': 0, 'i10...</td>\n",
       "      <td>{'openalex': 'https://openalex.org/A5028378314'}</td>\n",
       "      <td>[]</td>\n",
       "      <td>None</td>\n",
       "      <td>[]</td>\n",
       "      <td>[{'id': 'https://openalex.org/C1276947', 'wiki...</td>\n",
       "      <td>[{'year': 2015, 'works_count': 1, 'cited_by_co...</td>\n",
       "      <td>https://api.openalex.org/works?filter=author.i...</td>\n",
       "      <td>2023-12-23T10:22:59.349067</td>\n",
       "      <td>2023-07-21</td>\n",
       "    </tr>\n",
       "    <tr>\n",
       "      <th>7</th>\n",
       "      <td>https://openalex.org/A5011680841</td>\n",
       "      <td>None</td>\n",
       "      <td>Stephen Foreword By-Hawking</td>\n",
       "      <td>[Stephen Foreword By‐Hawking]</td>\n",
       "      <td>42.734165</td>\n",
       "      <td>1</td>\n",
       "      <td>0</td>\n",
       "      <td>{'2yr_mean_citedness': 0.0, 'h_index': 0, 'i10...</td>\n",
       "      <td>{'openalex': 'https://openalex.org/A5011680841'}</td>\n",
       "      <td>[]</td>\n",
       "      <td>None</td>\n",
       "      <td>[]</td>\n",
       "      <td>[{'id': 'https://openalex.org/C41008148', 'wik...</td>\n",
       "      <td>[]</td>\n",
       "      <td>https://api.openalex.org/works?filter=author.i...</td>\n",
       "      <td>2023-12-22T05:02:37.428705</td>\n",
       "      <td>2023-07-21</td>\n",
       "    </tr>\n",
       "  </tbody>\n",
       "</table>\n",
       "</div>"
      ],
      "text/plain": [
       "                                 id                                  orcid  \\\n",
       "0  https://openalex.org/A5066175077                                   None   \n",
       "1  https://openalex.org/A5016634951                                   None   \n",
       "2  https://openalex.org/A5011605021  https://orcid.org/0000-0002-6811-2573   \n",
       "3  https://openalex.org/A5068752385                                   None   \n",
       "4  https://openalex.org/A5063381111                                   None   \n",
       "5  https://openalex.org/A5074821306                                   None   \n",
       "6  https://openalex.org/A5028378314                                   None   \n",
       "7  https://openalex.org/A5011680841                                   None   \n",
       "\n",
       "                  display_name  \\\n",
       "0                S. W. Hawking   \n",
       "1              Stephen Hawking   \n",
       "2            Stephen H. Daniel   \n",
       "3              STEPHEN HAWKING   \n",
       "4            Stephen W Hawking   \n",
       "5              STEPHEN HAWKING   \n",
       "6         Prof-Stephen-Hawking   \n",
       "7  Stephen Foreword By-Hawking   \n",
       "\n",
       "                           display_name_alternatives  relevance_score  \\\n",
       "0  [Stephen Hawking, S. W Hawking, Stephen W. Haw...     33953.220000   \n",
       "1  [Stephen Hawking Lucy Hawking, S. Hawking, Ste...      2805.859100   \n",
       "2  [Stephen H. Daniel, Stephen Hawking Jennifer D...      2087.937700   \n",
       "3                                  [STEPHEN HAWKING]       311.661350   \n",
       "4                                [Stephen W Hawking]       250.872450   \n",
       "5                                  [STEPHEN HAWKING]        79.967050   \n",
       "6                             [Prof‐Stephen‐Hawking]        77.143050   \n",
       "7                      [Stephen Foreword By‐Hawking]        42.734165   \n",
       "\n",
       "   works_count  cited_by_count  \\\n",
       "0          415           72096   \n",
       "1           53             221   \n",
       "2          105             353   \n",
       "3            1               1   \n",
       "4            2               3   \n",
       "5            1               0   \n",
       "6            1               0   \n",
       "7            1               0   \n",
       "\n",
       "                                       summary_stats  \\\n",
       "0  {'2yr_mean_citedness': 0.0, 'h_index': 92, 'i1...   \n",
       "1  {'2yr_mean_citedness': 0.0, 'h_index': 8, 'i10...   \n",
       "2  {'2yr_mean_citedness': 0.13043478260869565, 'h...   \n",
       "3  {'2yr_mean_citedness': 0.0, 'h_index': 1, 'i10...   \n",
       "4  {'2yr_mean_citedness': 0.0, 'h_index': 1, 'i10...   \n",
       "5  {'2yr_mean_citedness': 0.0, 'h_index': 0, 'i10...   \n",
       "6  {'2yr_mean_citedness': 0.0, 'h_index': 0, 'i10...   \n",
       "7  {'2yr_mean_citedness': 0.0, 'h_index': 0, 'i10...   \n",
       "\n",
       "                                                 ids  \\\n",
       "0   {'openalex': 'https://openalex.org/A5066175077'}   \n",
       "1   {'openalex': 'https://openalex.org/A5016634951'}   \n",
       "2  {'openalex': 'https://openalex.org/A5011605021...   \n",
       "3   {'openalex': 'https://openalex.org/A5068752385'}   \n",
       "4   {'openalex': 'https://openalex.org/A5063381111'}   \n",
       "5   {'openalex': 'https://openalex.org/A5074821306'}   \n",
       "6   {'openalex': 'https://openalex.org/A5028378314'}   \n",
       "7   {'openalex': 'https://openalex.org/A5011680841'}   \n",
       "\n",
       "                                        affiliations  \\\n",
       "0  [{'institution': {'id': 'https://openalex.org/...   \n",
       "1  [{'institution': {'id': 'https://openalex.org/...   \n",
       "2  [{'institution': {'id': 'https://openalex.org/...   \n",
       "3                                                 []   \n",
       "4                                                 []   \n",
       "5                                                 []   \n",
       "6                                                 []   \n",
       "7                                                 []   \n",
       "\n",
       "                              last_known_institution  \\\n",
       "0  {'id': 'https://openalex.org/I241749', 'ror': ...   \n",
       "1  {'id': 'https://openalex.org/I1325620243', 'ro...   \n",
       "2  {'id': 'https://openalex.org/I91045830', 'ror'...   \n",
       "3                                               None   \n",
       "4                                               None   \n",
       "5                                               None   \n",
       "6                                               None   \n",
       "7                                               None   \n",
       "\n",
       "                             last_known_institutions  \\\n",
       "0  [{'id': 'https://openalex.org/I241749', 'ror':...   \n",
       "1  [{'id': 'https://openalex.org/I1325620243', 'r...   \n",
       "2  [{'id': 'https://openalex.org/I91045830', 'ror...   \n",
       "3                                                 []   \n",
       "4                                                 []   \n",
       "5                                                 []   \n",
       "6                                                 []   \n",
       "7                                                 []   \n",
       "\n",
       "                                          x_concepts  \\\n",
       "0  [{'id': 'https://openalex.org/C121332964', 'wi...   \n",
       "1  [{'id': 'https://openalex.org/C121332964', 'wi...   \n",
       "2  [{'id': 'https://openalex.org/C138885662', 'wi...   \n",
       "3  [{'id': 'https://openalex.org/C17744445', 'wik...   \n",
       "4  [{'id': 'https://openalex.org/C15708023', 'wik...   \n",
       "5  [{'id': 'https://openalex.org/C78519656', 'wik...   \n",
       "6  [{'id': 'https://openalex.org/C1276947', 'wiki...   \n",
       "7  [{'id': 'https://openalex.org/C41008148', 'wik...   \n",
       "\n",
       "                                      counts_by_year  \\\n",
       "0  [{'year': 2024, 'works_count': 0, 'cited_by_co...   \n",
       "1  [{'year': 2023, 'works_count': 0, 'cited_by_co...   \n",
       "2  [{'year': 2023, 'works_count': 2, 'cited_by_co...   \n",
       "3                                                 []   \n",
       "4                                                 []   \n",
       "5                                                 []   \n",
       "6  [{'year': 2015, 'works_count': 1, 'cited_by_co...   \n",
       "7                                                 []   \n",
       "\n",
       "                                       works_api_url  \\\n",
       "0  https://api.openalex.org/works?filter=author.i...   \n",
       "1  https://api.openalex.org/works?filter=author.i...   \n",
       "2  https://api.openalex.org/works?filter=author.i...   \n",
       "3  https://api.openalex.org/works?filter=author.i...   \n",
       "4  https://api.openalex.org/works?filter=author.i...   \n",
       "5  https://api.openalex.org/works?filter=author.i...   \n",
       "6  https://api.openalex.org/works?filter=author.i...   \n",
       "7  https://api.openalex.org/works?filter=author.i...   \n",
       "\n",
       "                 updated_date created_date  \n",
       "0  2024-03-12T03:05:06.731185   2023-07-21  \n",
       "1  2024-03-01T01:35:49.680102   2023-07-21  \n",
       "2  2024-03-10T18:59:18.397849   2023-07-21  \n",
       "3  2024-02-14T02:15:34.318278   2023-07-21  \n",
       "4  2023-12-23T21:32:44.824656   2023-07-21  \n",
       "5  2023-12-23T10:40:59.474311   2023-07-21  \n",
       "6  2023-12-23T10:22:59.349067   2023-07-21  \n",
       "7  2023-12-22T05:02:37.428705   2023-07-21  "
      ]
     },
     "execution_count": 34,
     "metadata": {},
     "output_type": "execute_result"
    }
   ],
   "source": [
    "# まずは、pyalexのsearchを使用してStephen Hawkingのデータを検索します\n",
    "name = \"Stephen Hawking\"\n",
    "\n",
    "# searchは、タイトル、アブストラクト、著者名やキーワードなどから横断的に検索して、当てはまる結果を返してくれます。\n",
    "# searchの検索対象は、対象とするデータによって異なります。　https://docs.openalex.org/how-to-use-the-api/get-lists-of-entities/search-entities#the-search-parameter\n",
    "authors_df = pd.DataFrame(Authors().search(name).get())\n",
    "\n",
    "# 取得したauthor_dfを表示します\n",
    "authors_df.sort_values(by=\"relevance_score\", ascending=False)\n",
    "\n",
    "# 同姓同名が多数ヒットすることがあります。所属機関や、relevance_scoreなどから判断しなければいけません。自動でやる場合には工夫が必要です。\n",
    "# 今回対象としているS. W. Hawkingは幸いにしてそんなに同姓同名が少ないです。有名な人なので、わかりやすくてよかったです。\n",
    "\n",
    "# # 検索結果から著者を指定します\n",
    "# i = 0\n",
    "# author_id = authors_df.loc[i,\"id\"]\n",
    "# author_name = authors_df.loc[i,\"display_name\"]\n",
    "\n",
    "# # 著者データを確認します\n",
    "# data = Authors()[author_id]\n",
    "# # 著者の最新の所属機関\n",
    "# institutions = [entry['display_name'] for entry in data['last_known_institutions']]\n",
    "# print('Last known institutions of the select author:')\n",
    "# pprint(institutions)\n",
    "# # 著者が発表した論文のテーマ\n",
    "# concepts = [entry['display_name'] for entry in data['x_concepts']]\n",
    "# print('\\nConcepts of the select author:')\n",
    "# pprint(concepts)"
   ]
  },
  {
   "cell_type": "code",
   "execution_count": null,
   "metadata": {},
   "outputs": [
    {
     "name": "stdout",
     "output_type": "stream",
     "text": [
      "Fetching 414 objects. it may takes 0.03 to 0.1 minutes\n"
     ]
    },
    {
     "name": "stderr",
     "output_type": "stream",
     "text": [
      "4it [00:04,  1.12s/it]\n"
     ]
    }
   ],
   "source": [
    "# 次に、Stephen Hawkingのidを使用し、彼が発表したすべての論文の被引用数を獲得します\n",
    "author_id = \"https://openalex.org/A5066175077\" # 先ほどの表を見る限りでは一番最初のHawkingが私たちが調べたいHawikingです。\n",
    "# author_id = authors_df.loc[0,\"id\"] # いちばんrelevanceが高い人を自動的に選ぶ場合\n",
    "\n",
    "# pyalex(openalex)の関数は searchの他に、filter, search_filterの合わせて三種類があります。\n",
    "# filterは、searchと異なり特定の変数、例えば出版年や著者の国籍などで絞り込むときに使います。\n",
    "\n",
    "# 条件を細かく指定した「pyalexオブジェクト」を作成してから、まとめて取得します。\n",
    "# select や sortはおまけなので覚える必要はありませんが、取得したデータを取り扱いやすくするのに役立ちます。\n",
    "pyalexObj = Works().filter(author={\"id\":author_id},is_paratext=False)\\\n",
    "                .select([\"cited_by_count\"])\\\n",
    "                .sort(publication_date=\"asc\") # 発表日順に並べ替えます\n",
    "\n",
    "# まとめて取得します\n",
    "citations_df = pd.DataFrame(util.getAll(pyalexObj))\n",
    "citations = citations_df[\"cited_by_count\"].values\n",
    "citations_sorted = citations_df[\"cited_by_count\"].sort_values(ascending=False).values"
   ]
  },
  {
   "cell_type": "code",
   "execution_count": null,
   "metadata": {},
   "outputs": [
    {
     "name": "stdout",
     "output_type": "stream",
     "text": [
      "The h-index of the researcher is: 92.\n"
     ]
    }
   ],
   "source": [
    "# 被引用数が論文の順位より大きい論文を数えます。\n",
    "h_index = np.sum(citations_sorted >= np.arange(citations_sorted.size)+1)\n",
    "print(f\"The h-index of the researcher is: {h_index}.\")"
   ]
  },
  {
   "cell_type": "markdown",
   "metadata": {},
   "source": [
    "ここまでで pyalexでの処理とh-indexの計算はおしまいですが、せっかくなのでよりわかりやすく可視化をしてみます。"
   ]
  },
  {
   "cell_type": "code",
   "execution_count": null,
   "metadata": {},
   "outputs": [],
   "source": [
    "# 以下、可視化する\n",
    "\n",
    "# plot の関数\n",
    "def plot_citations(ax, citations, *,\\\n",
    "                   xlabel='Papers', ylabel='# Citations', title='',\\\n",
    "                   logx=\"linear\", logy=\"log\", h_index=0):\n",
    "\n",
    "    ax.set_title(title); ax.set_xlabel(xlabel); ax.set_ylabel(ylabel)\n",
    "    ax.set_xscale(logx); ax.set_yscale(logy)\n",
    "    \n",
    "    # stem plotで論文の被引用数を表示する\n",
    "    markerline, stemlines, baseline = ax.stem(np.arange(1, len(citations) + 1), citations, basefmt=\" \")\n",
    "    \n",
    "    # stemの線を表示するかを設定する\n",
    "    plt.setp(stemlines, 'color', 'skyblue')\n",
    "    plt.setp(markerline, 'color', 'lightcoral')\n",
    "    \n",
    "    # h_indexが入力される場合、45°の補助線を表示する\n",
    "    if h_index!=0:\n",
    "        xlim, ylim = ax.get_xlim(), ax.get_ylim()\n",
    "        print(xlim, ylim)\n",
    "        ax.plot([1, h_index], [1, h_index], ls=\"--\", color='crimson')\n",
    "        ax.plot(xlim, [h_index, h_index], color='gray', linestyle='--')\n",
    "        ax.plot([h_index, h_index], ylim, color='gray', linestyle='--')\n",
    "        ax.set_xlim(xlim)\n",
    "        ax.set_ylim(ylim)"
   ]
  },
  {
   "cell_type": "code",
   "execution_count": null,
   "metadata": {},
   "outputs": [
    {
     "name": "stdout",
     "output_type": "stream",
     "text": [
      "(-19.650000000000002, 434.65) (0.6304567728385976, 16115.299950312445)\n"
     ]
    },
    {
     "data": {
      "image/png": "[encoded data removed]",
      "text/plain": [
       "<Figure size 800x800 with 2 Axes>"
      ]
     },
     "metadata": {},
     "output_type": "display_data"
    }
   ],
   "source": [
    "# プロットの場所を用意する\n",
    "fig, axs = plt.subplots(2, 1, figsize=(8, 8))\n",
    "\n",
    "# グラフを作成します。logyを使うため、yをcitations+1にします。\n",
    "# 上のグラフは発表日順に並べた論文の被引用数\n",
    "plot_citations(axs[0], citations+1, logy=\"log\",\\\n",
    "               xlabel='Papers (Ordered by Publication Date)',\\\n",
    "               title=f'Number of Citations of {name}')\n",
    "# 下のグラフは被引用数順に並べた論文の被引用数\n",
    "plot_citations(axs[1], citations_sorted+1, logy=\"log\", h_index=h_index,\\\n",
    "               xlabel='Papers (Ordered by #Citations)', \\\n",
    "               title=f'Number of Citations of {name} ($h$-index={h_index})')\n",
    "plt.tight_layout()\n",
    "plt.show()"
   ]
  },
  {
   "cell_type": "markdown",
   "metadata": {},
   "source": [
    "## 2. h-index指標の長期的予測性能"
   ]
  },
  {
   "cell_type": "markdown",
   "metadata": {},
   "source": [
    "- (Row 1) キャリアの5年目の論文指標を利用し、10年目の総被引用数を予測するときには、sqrt(cited_first_5yrs)とh_index_first_5yrs（最初の5年の被引用数の平方根と第5年のh-index）は最も有用な指標である。\n",
    "- (Row 2) さらに、キャリアの5年目の論文指標を利用し、5年目以降発表した論文の総被引用数を予測するときには、h_index_first_5yrsは最もいい予測指標である。"
   ]
  },
  {
   "cell_type": "markdown",
   "metadata": {},
   "source": [
    "- X \n",
    "    * 'h_index_first_5yrs': h_index in the 5th years of the career.\n",
    "    * 'cited_first_5yrs': cited_by_count in the first 5 years of the career.\n",
    "    * 'works_first_5yrs': works_count in the first 5 years of the career.\n",
    "    * 'cited_per_work_first_5yrs': cited_first_5yrs / works_first_5yrs.\n",
    "\n",
    "- Y:\n",
    "    * 'cited_first_10yrs': cited_by_count in the first 10 years of the career.\n",
    "    * 'cited_6to10yrs': cited_by_count of papers published after the time of prediction."
   ]
  },
  {
   "cell_type": "code",
   "execution_count": 88,
   "metadata": {},
   "outputs": [
    {
     "name": "stderr",
     "output_type": "stream",
     "text": [
      "/Users/ti/Library/Python/3.9/lib/python/site-packages/pandas/core/internals/blocks.py:366: RuntimeWarning: invalid value encountered in sqrt\n",
      "  result = func(self.values, **kwargs)\n"
     ]
    },
    {
     "name": "stdout",
     "output_type": "stream",
     "text": [
      "Number of valid data for plotting: 18\n"
     ]
    },
    {
     "data": {
      "image/png": "[encoded data removed]",
      "text/plain": [
       "<Figure size 1200x600 with 8 Axes>"
      ]
     },
     "metadata": {},
     "output_type": "display_data"
    }
   ],
   "source": [
    "from scipy.stats import pearsonr\n",
    "\n",
    "authors_valid = pd.read_pickle(\"./supplementary/authors_valid.pickle\")\n",
    "\n",
    "XX = authors_valid[['h_index_first_5yrs','cited_first_5yrs', 'works_first_5yrs', 'cited_per_work_first_5yrs']].copy()\n",
    "YY = authors_valid[['cited_first_10yrs', 'cited_6to10yrs']].copy()\n",
    "XX[['cited_first_5yrs']] = np.sqrt(XX[['cited_first_5yrs']])\n",
    "YY = YY.apply(np.sqrt).dropna()\n",
    "XX = XX[XX.index.isin(YY.index)]\n",
    "\n",
    "print(f'Number of valid data for plotting: {len(YY)}')\n",
    "\n",
    "# Plot scattered graphs for all combinations of XX and YY\n",
    "fig, axs = plt.subplots(nrows=2, ncols=4, figsize=(12, 6))\n",
    "\n",
    "for i, x_col in enumerate(XX.columns):\n",
    "    for j, y_col in enumerate(YY.columns):\n",
    "        ax = axs[j, i]\n",
    "        ax.scatter(XX[x_col], YY[y_col], marker='x', alpha=0.8)\n",
    "        ax.plot([0,max(XX[x_col])],[0,max(YY[y_col])], '--')\n",
    "        ax.set_xlabel(x_col)\n",
    "        ax.set_ylabel(y_col)\n",
    "        ax.set_xlim(left=0)\n",
    "        ax.set_ylim(bottom=0)\n",
    "\n",
    "        # Compute correlation coefficient (r)\n",
    "        r, p_value = pearsonr(XX[x_col], YY[y_col])\n",
    "        ax.text(0.05, 0.95, f'r = {r:.2f}, p_value = {p_value:.3f}', transform=ax.transAxes, ha='left', va='top')\n",
    "\n",
    "plt.tight_layout()\n",
    "plt.show()"
   ]
  },
  {
   "cell_type": "markdown",
   "metadata": {},
   "source": [
    "# 探索"
   ]
  },
  {
   "cell_type": "markdown",
   "metadata": {},
   "source": [
    "## 3．重回帰分析によるh-index予測"
   ]
  },
  {
   "cell_type": "markdown",
   "metadata": {},
   "source": [
    "2016年時点のデータに基づいて2024年のh-indexを予測します。\n",
    "(若手研究者のみに絞るため、2016年のcareer_age<=7の研究者を選択します)\n",
    "- X：\n",
    "    - h_index_2016: 2016年時点のh-index\n",
    "    - affiliation_h_index: institution.summary_stats.h_index\n",
    "    - gender：男性、女性\n",
    "    - race：USでの人種。白人、アフリカ系、アジア系、ヒスパニック系\n",
    "- Y:\n",
    "    - h_index: 'author.summary_stats.h_index'"
   ]
  },
  {
   "cell_type": "code",
   "execution_count": 4,
   "metadata": {},
   "outputs": [],
   "source": [
    "# [from_year, to_year]の間に発表された論文が[from_year, to_year]の間に獲得した被引用数\n",
    "def get_citations(works_json, from_year, to_year):\n",
    "        n = 0\n",
    "        citations = []\n",
    "        for work in works_json:\n",
    "            if (from_year <= work['publication_year'] <= to_year):\n",
    "                n += 1\n",
    "                cited_by_count_after = sum(entry['cited_by_count'] for entry in work['counts_by_year'] \n",
    "                              if entry['year'] > to_year)\n",
    "                citations.append(work['cited_by_count'] - cited_by_count_after)\n",
    "            else:\n",
    "                continue\n",
    "        return citations\n",
    "        \n",
    "def calculate_h_index(citations):\n",
    "    if len(citations)==0:\n",
    "        return 0\n",
    "    else:\n",
    "        citations = np.array(citations)\n",
    "        citations[::-1].sort()\n",
    "        array = np.arange(1,citations.size+1)\n",
    "        h_index = np.max(np.minimum(citations, array))\n",
    "        return h_index"
   ]
  },
  {
   "cell_type": "markdown",
   "metadata": {},
   "source": [
    "### 学習データの準備"
   ]
  },
  {
   "cell_type": "markdown",
   "metadata": {},
   "source": [
    "#### Get data samples"
   ]
  },
  {
   "cell_type": "markdown",
   "metadata": {},
   "source": [
    "APIを利用しデータを獲得するには時間がかかるため、30人の小規模サンプルでデータ処理のプロセスを示します。その後、事前に処理されたデータを読み込んで分析を行います。"
   ]
  },
  {
   "cell_type": "code",
   "execution_count": 5,
   "metadata": {},
   "outputs": [
    {
     "name": "stdout",
     "output_type": "stream",
     "text": [
      "Number of sampled authors: 50\n"
     ]
    }
   ],
   "source": [
    "# './supplementary/first_publication.pickle'から研究歴で若手の著者をサンプリングします\n",
    "career_age_df=pd.read_pickle('./supplementary/first_publication.pickle') # 全部で10,000人分のcareer ageのデータが入っています。\n",
    "career_age_df=career_age_df[(career_age_df['year']>=2016-7)&(career_age_df['year']<=2016-3)]\\\n",
    "    .reset_index(drop=True)\\\n",
    "    .sample(50)\n",
    "    \n",
    "print(f'Number of sampled authors: {career_age_df.shape[0]}')"
   ]
  },
  {
   "cell_type": "code",
   "execution_count": 6,
   "metadata": {},
   "outputs": [
    {
     "name": "stderr",
     "output_type": "stream",
     "text": [
      "  0%|          | 0/50 [00:00<?, ?it/s]"
     ]
    },
    {
     "name": "stderr",
     "output_type": "stream",
     "text": [
      "100%|██████████| 50/50 [01:06<00:00,  1.33s/it]\n"
     ]
    }
   ],
   "source": [
    "# Get authors info by pyalex\n",
    "authors_json = []\n",
    "for id in tqdm.tqdm(career_age_df[\"id\"]):\n",
    "    authors_json.append(Authors()[id])\n",
    "authors_df = pd.DataFrame(authors_json)"
   ]
  },
  {
   "cell_type": "code",
   "execution_count": 7,
   "metadata": {},
   "outputs": [],
   "source": [
    "# Get h_index\n",
    "authors_df['h_index'] = authors_df['summary_stats'].apply(lambda x:x['h_index'])\n",
    "\n",
    "# Clean up authors_df\n",
    "authors_df = authors_df[['id','display_name','affiliations','counts_by_year','works_count','cited_by_count','h_index']]\n",
    "# affiliation_h_indexが獲得できないデータを排除するため、affiliationsがあるデータを選択します。\n",
    "authors_df = authors_df[authors_df['affiliations'].apply(len)>0]\n",
    "\n",
    "# Get career_age\n",
    "authors_df = pd.merge(authors_df, career_age_df, on='id', how='inner')\n",
    "authors_df['career_age']=authors_df['year'].apply(lambda x:2016-x)"
   ]
  },
  {
   "cell_type": "markdown",
   "metadata": {},
   "source": [
    "#### Get gender and ethnicity from the Namsor API."
   ]
  },
  {
   "cell_type": "markdown",
   "metadata": {},
   "source": [
    "Namsorでは、名前からジェンダー、人種・民族などを推測することができます。\n",
    "https://namsor.app/ からログインしてAPI keyを取得しましょう。"
   ]
  },
  {
   "cell_type": "code",
   "execution_count": 8,
   "metadata": {},
   "outputs": [],
   "source": [
    "import requests\n",
    "import json\n",
    "\n",
    "# API callを設定します。\n",
    "# 推定したい名前をリストにして、APIの入力とします。\n",
    "name_list=[]\n",
    "for index, entry in authors_df.iterrows():\n",
    "    name_list.append({\"name\": entry['display_name']})\n",
    "payload = {\"personalNames\": name_list}\n",
    "\n",
    "headers = {\n",
    "    \"X-API-KEY\": \"YOUR_API_KEY\", # 取得したAPI_keyをこちらに入れてください。 \n",
    "    \"Accept\": \"application/json\",\n",
    "    \"Content-Type\": \"application/json\"\n",
    "}"
   ]
  },
  {
   "cell_type": "code",
   "execution_count": 9,
   "metadata": {},
   "outputs": [],
   "source": [
    "# Get gender and race data from 'display_name' by Namsor API\n",
    "gender_url = \"https://v2.namsor.com/NamSorAPIv2/api2/json/genderFullBatch\"\n",
    "gender_response = requests.request(\"POST\", gender_url, json=payload, headers=headers)\n",
    "\n",
    "race_url = \"https://v2.namsor.com/NamSorAPIv2/api2/json/usRaceEthnicityFullBatch\"\n",
    "race_response = requests.request(\"POST\", race_url, json=payload, headers=headers)"
   ]
  },
  {
   "cell_type": "code",
   "execution_count": 10,
   "metadata": {},
   "outputs": [
    {
     "name": "stdout",
     "output_type": "stream",
     "text": [
      "{'Aakanksha Chowdhery': 'female',\n",
      " 'Hatice Sonay Yalçin': 'female',\n",
      " 'Jodi Turnbull': 'female',\n",
      " 'Lilian Tian': 'female',\n",
      " 'Mayu Shimoda': 'female',\n",
      " 'Nadzrul Aida': 'male',\n",
      " 'S Sadeghi Dehcheshmeh': 'male',\n",
      " 'Sae Hyun Park': 'female',\n",
      " 'Samuel K. L. Lai': 'male',\n",
      " 'Yang Rui-song': 'male'}\n"
     ]
    }
   ],
   "source": [
    "# Get name-gender dictionary from response\n",
    "gender_json=json.loads(gender_response.text)\n",
    "personal_names = gender_json['personalNames']\n",
    "gender_dict = {}\n",
    "for entry in personal_names:\n",
    "    name = entry['name']\n",
    "    gender = str(entry['likelyGender'])\n",
    "    gender_dict[name] = gender\n",
    "\n",
    "# Show first 10 rows in gender_dict\n",
    "pprint({k: gender_dict[k] for k in list(gender_dict)[:10]})"
   ]
  },
  {
   "cell_type": "code",
   "execution_count": 11,
   "metadata": {},
   "outputs": [
    {
     "name": "stdout",
     "output_type": "stream",
     "text": [
      "{'Aakanksha Chowdhery': 'A',\n",
      " 'Hatice Sonay Yalçin': 'B_NL',\n",
      " 'Jodi Turnbull': 'W_NL',\n",
      " 'Lilian Tian': 'A',\n",
      " 'Mayu Shimoda': 'A',\n",
      " 'Nadzrul Aida': 'A',\n",
      " 'S Sadeghi Dehcheshmeh': 'A',\n",
      " 'Sae Hyun Park': 'A',\n",
      " 'Samuel K. L. Lai': 'A',\n",
      " 'Yang Rui-song': 'A'}\n"
     ]
    }
   ],
   "source": [
    "# Get name-race dictionary from response\n",
    "race_json=json.loads(race_response.text)\n",
    "personal_names = race_json['personalNames']\n",
    "race_dict = {}\n",
    "for entry in personal_names:\n",
    "    name = entry['name']\n",
    "    race = str(entry['raceEthnicity'])\n",
    "    race_dict[name] = race\n",
    "\n",
    "# Show first 10 rows in race_dict\n",
    "pprint({k: race_dict[k] for k in list(race_dict)[:10]})\n",
    "\n",
    "# Race ethnicities, based on the US Census Taxonomy:\n",
    "# W_NL: white, non latino ;\n",
    "# HL: hispano latino ;\n",
    "# A: asian, non latino ;\n",
    "# B_NL: black, non latino ."
   ]
  },
  {
   "cell_type": "code",
   "execution_count": 12,
   "metadata": {},
   "outputs": [],
   "source": [
    "# Assign gender and ethnicity to authors\n",
    "authors_df['gender'] = authors_df['display_name'].apply(lambda x: gender_dict[x])\n",
    "authors_df['race'] = authors_df['display_name'].apply(lambda x: race_dict[x])"
   ]
  },
  {
   "cell_type": "markdown",
   "metadata": {},
   "source": [
    "#### Get other variables"
   ]
  },
  {
   "cell_type": "code",
   "execution_count": 13,
   "metadata": {},
   "outputs": [
    {
     "data": {
      "text/plain": [
       "13"
      ]
     },
     "execution_count": 13,
     "metadata": {},
     "output_type": "execute_result"
    }
   ],
   "source": [
    "len(authors_df)"
   ]
  },
  {
   "cell_type": "code",
   "execution_count": 14,
   "metadata": {},
   "outputs": [
    {
     "name": "stdout",
     "output_type": "stream",
     "text": [
      " 13 / 13 (92.31 %)"
     ]
    }
   ],
   "source": [
    "authors_df[['h_index_2016','affiliation_h_index']] = -1\n",
    "authors_df['cited_per_work_first_5yrs'] = -1.0\n",
    "predictor_year = 2016\n",
    "\n",
    "for i, author in authors_df.iterrows():\n",
    "    print(\"\\r\", f\"{i+1} / {len(authors_df)} ({round(i / len(authors_df)*100,2)} %)\" , end=\"\")\n",
    "\n",
    "    pyalexObj = Works().filter(author={\"id\":author[\"id\"]},is_paratext=False, publication_year=f\"<{predictor_year+1}\")\\\n",
    "                       .select(['cited_by_count','counts_by_year','publication_year'])\\\n",
    "                       .sort(publication_year=\"asc\")\n",
    "    works_json = util.getAll(pyalexObj, verbous=False)\n",
    "    if works_json==[]:\n",
    "        continue\n",
    "\n",
    "    # Calculate h_index_2016\n",
    "    citations = get_citations(works_json, author['year'], predictor_year)\n",
    "    authors_df.loc[i,'h_index_2016']=calculate_h_index(citations)\n",
    "    \n",
    "    # Calculate affiliation_h_index\n",
    "    affiliations = author[\"affiliations\"]\n",
    "    year = predictor_year\n",
    "    found = False\n",
    "    authors_df.loc[i,'affiliation_h_index'] = -1\n",
    "    while (not found) and (year >= predictor_year-7):\n",
    "        for af in affiliations:\n",
    "            if year in af['years']:\n",
    "                affiliation_h_index = Institutions()[af['institution']['id']]['summary_stats']['h_index']\n",
    "                if authors_df.loc[i,'affiliation_h_index'] < affiliation_h_index:\n",
    "                    authors_df.loc[i,'affiliation_h_index'] = affiliation_h_index\n",
    "                found = True\n",
    "        year -= 1"
   ]
  },
  {
   "cell_type": "code",
   "execution_count": 15,
   "metadata": {},
   "outputs": [
    {
     "data": {
      "text/html": [
       "<div>\n",
       "<style scoped>\n",
       "    .dataframe tbody tr th:only-of-type {\n",
       "        vertical-align: middle;\n",
       "    }\n",
       "\n",
       "    .dataframe tbody tr th {\n",
       "        vertical-align: top;\n",
       "    }\n",
       "\n",
       "    .dataframe thead th {\n",
       "        text-align: right;\n",
       "    }\n",
       "</style>\n",
       "<table border=\"1\" class=\"dataframe\">\n",
       "  <thead>\n",
       "    <tr style=\"text-align: right;\">\n",
       "      <th></th>\n",
       "      <th>id</th>\n",
       "      <th>display_name</th>\n",
       "      <th>affiliations</th>\n",
       "      <th>counts_by_year</th>\n",
       "      <th>works_count</th>\n",
       "      <th>cited_by_count</th>\n",
       "      <th>h_index</th>\n",
       "      <th>year</th>\n",
       "      <th>career_age</th>\n",
       "      <th>gender</th>\n",
       "      <th>race</th>\n",
       "      <th>h_index_2016</th>\n",
       "      <th>affiliation_h_index</th>\n",
       "      <th>cited_per_work_first_5yrs</th>\n",
       "    </tr>\n",
       "  </thead>\n",
       "  <tbody>\n",
       "    <tr>\n",
       "      <th>0</th>\n",
       "      <td>https://openalex.org/A5075490374</td>\n",
       "      <td>Mayu Shimoda</td>\n",
       "      <td>[{'institution': {'id': 'https://openalex.org/...</td>\n",
       "      <td>[{'year': 2022, 'works_count': 1, 'cited_by_co...</td>\n",
       "      <td>5</td>\n",
       "      <td>0</td>\n",
       "      <td>0</td>\n",
       "      <td>2010</td>\n",
       "      <td>6</td>\n",
       "      <td>female</td>\n",
       "      <td>A</td>\n",
       "      <td>0</td>\n",
       "      <td>-1</td>\n",
       "      <td>-1.0</td>\n",
       "    </tr>\n",
       "    <tr>\n",
       "      <th>1</th>\n",
       "      <td>https://openalex.org/A5055752337</td>\n",
       "      <td>Hatice Sonay Yalçin</td>\n",
       "      <td>[{'institution': {'id': 'https://openalex.org/...</td>\n",
       "      <td>[{'year': 2023, 'works_count': 1, 'cited_by_co...</td>\n",
       "      <td>4</td>\n",
       "      <td>1</td>\n",
       "      <td>1</td>\n",
       "      <td>2012</td>\n",
       "      <td>4</td>\n",
       "      <td>female</td>\n",
       "      <td>B_NL</td>\n",
       "      <td>0</td>\n",
       "      <td>-1</td>\n",
       "      <td>-1.0</td>\n",
       "    </tr>\n",
       "    <tr>\n",
       "      <th>2</th>\n",
       "      <td>https://openalex.org/A5055969617</td>\n",
       "      <td>Aakanksha Chowdhery</td>\n",
       "      <td>[{'institution': {'id': 'https://openalex.org/...</td>\n",
       "      <td>[{'year': 2024, 'works_count': 2, 'cited_by_co...</td>\n",
       "      <td>53</td>\n",
       "      <td>1101</td>\n",
       "      <td>15</td>\n",
       "      <td>2009</td>\n",
       "      <td>7</td>\n",
       "      <td>female</td>\n",
       "      <td>A</td>\n",
       "      <td>7</td>\n",
       "      <td>897</td>\n",
       "      <td>-1.0</td>\n",
       "    </tr>\n",
       "    <tr>\n",
       "      <th>3</th>\n",
       "      <td>https://openalex.org/A5075596205</td>\n",
       "      <td>Sae Hyun Park</td>\n",
       "      <td>[{'institution': {'id': 'https://openalex.org/...</td>\n",
       "      <td>[{'year': 2024, 'works_count': 0, 'cited_by_co...</td>\n",
       "      <td>6</td>\n",
       "      <td>189</td>\n",
       "      <td>4</td>\n",
       "      <td>2010</td>\n",
       "      <td>6</td>\n",
       "      <td>female</td>\n",
       "      <td>A</td>\n",
       "      <td>3</td>\n",
       "      <td>165</td>\n",
       "      <td>-1.0</td>\n",
       "    </tr>\n",
       "    <tr>\n",
       "      <th>4</th>\n",
       "      <td>https://openalex.org/A5045331334</td>\n",
       "      <td>Lilian Tian</td>\n",
       "      <td>[{'institution': {'id': 'https://openalex.org/...</td>\n",
       "      <td>[{'year': 2024, 'works_count': 0, 'cited_by_co...</td>\n",
       "      <td>1</td>\n",
       "      <td>49</td>\n",
       "      <td>1</td>\n",
       "      <td>2010</td>\n",
       "      <td>6</td>\n",
       "      <td>female</td>\n",
       "      <td>A</td>\n",
       "      <td>1</td>\n",
       "      <td>989</td>\n",
       "      <td>-1.0</td>\n",
       "    </tr>\n",
       "    <tr>\n",
       "      <th>5</th>\n",
       "      <td>https://openalex.org/A5023284716</td>\n",
       "      <td>Jodi Turnbull</td>\n",
       "      <td>[{'institution': {'id': 'https://openalex.org/...</td>\n",
       "      <td>[{'year': 2024, 'works_count': 0, 'cited_by_co...</td>\n",
       "      <td>17</td>\n",
       "      <td>101</td>\n",
       "      <td>6</td>\n",
       "      <td>2011</td>\n",
       "      <td>5</td>\n",
       "      <td>female</td>\n",
       "      <td>W_NL</td>\n",
       "      <td>1</td>\n",
       "      <td>322</td>\n",
       "      <td>-1.0</td>\n",
       "    </tr>\n",
       "    <tr>\n",
       "      <th>6</th>\n",
       "      <td>https://openalex.org/A5022186955</td>\n",
       "      <td>Nadzrul Aida</td>\n",
       "      <td>[{'institution': {'id': 'https://openalex.org/...</td>\n",
       "      <td>[{'year': 2023, 'works_count': 1, 'cited_by_co...</td>\n",
       "      <td>3</td>\n",
       "      <td>1</td>\n",
       "      <td>1</td>\n",
       "      <td>2011</td>\n",
       "      <td>5</td>\n",
       "      <td>male</td>\n",
       "      <td>A</td>\n",
       "      <td>0</td>\n",
       "      <td>-1</td>\n",
       "      <td>-1.0</td>\n",
       "    </tr>\n",
       "    <tr>\n",
       "      <th>7</th>\n",
       "      <td>https://openalex.org/A5067614835</td>\n",
       "      <td>Yang Rui-song</td>\n",
       "      <td>[{'institution': {'id': 'https://openalex.org/...</td>\n",
       "      <td>[]</td>\n",
       "      <td>1</td>\n",
       "      <td>0</td>\n",
       "      <td>0</td>\n",
       "      <td>2011</td>\n",
       "      <td>5</td>\n",
       "      <td>male</td>\n",
       "      <td>A</td>\n",
       "      <td>0</td>\n",
       "      <td>131</td>\n",
       "      <td>-1.0</td>\n",
       "    </tr>\n",
       "    <tr>\n",
       "      <th>8</th>\n",
       "      <td>https://openalex.org/A5011698241</td>\n",
       "      <td>S Sadeghi Dehcheshmeh</td>\n",
       "      <td>[{'institution': {'id': 'https://openalex.org/...</td>\n",
       "      <td>[{'year': 2014, 'works_count': 0, 'cited_by_co...</td>\n",
       "      <td>1</td>\n",
       "      <td>1</td>\n",
       "      <td>1</td>\n",
       "      <td>2011</td>\n",
       "      <td>5</td>\n",
       "      <td>male</td>\n",
       "      <td>A</td>\n",
       "      <td>1</td>\n",
       "      <td>129</td>\n",
       "      <td>-1.0</td>\n",
       "    </tr>\n",
       "    <tr>\n",
       "      <th>9</th>\n",
       "      <td>https://openalex.org/A5030494282</td>\n",
       "      <td>Samuel K. L. Lai</td>\n",
       "      <td>[{'institution': {'id': 'https://openalex.org/...</td>\n",
       "      <td>[{'year': 2017, 'works_count': 0, 'cited_by_co...</td>\n",
       "      <td>1</td>\n",
       "      <td>2</td>\n",
       "      <td>1</td>\n",
       "      <td>2011</td>\n",
       "      <td>5</td>\n",
       "      <td>male</td>\n",
       "      <td>A</td>\n",
       "      <td>1</td>\n",
       "      <td>129</td>\n",
       "      <td>-1.0</td>\n",
       "    </tr>\n",
       "    <tr>\n",
       "      <th>10</th>\n",
       "      <td>https://openalex.org/A5049626826</td>\n",
       "      <td>Vedat Karadeniz</td>\n",
       "      <td>[{'institution': {'id': 'https://openalex.org/...</td>\n",
       "      <td>[{'year': 2023, 'works_count': 0, 'cited_by_co...</td>\n",
       "      <td>29</td>\n",
       "      <td>25</td>\n",
       "      <td>3</td>\n",
       "      <td>2009</td>\n",
       "      <td>7</td>\n",
       "      <td>male</td>\n",
       "      <td>W_NL</td>\n",
       "      <td>1</td>\n",
       "      <td>77</td>\n",
       "      <td>-1.0</td>\n",
       "    </tr>\n",
       "    <tr>\n",
       "      <th>11</th>\n",
       "      <td>https://openalex.org/A5046494003</td>\n",
       "      <td>A Anssari-Benham</td>\n",
       "      <td>[{'institution': {'id': 'https://openalex.org/...</td>\n",
       "      <td>[{'year': 2021, 'works_count': 0, 'cited_by_co...</td>\n",
       "      <td>1</td>\n",
       "      <td>23</td>\n",
       "      <td>1</td>\n",
       "      <td>2011</td>\n",
       "      <td>5</td>\n",
       "      <td>male</td>\n",
       "      <td>A</td>\n",
       "      <td>1</td>\n",
       "      <td>484</td>\n",
       "      <td>-1.0</td>\n",
       "    </tr>\n",
       "    <tr>\n",
       "      <th>12</th>\n",
       "      <td>https://openalex.org/A5068258885</td>\n",
       "      <td>Jennifer Girard</td>\n",
       "      <td>[{'institution': {'id': 'https://openalex.org/...</td>\n",
       "      <td>[{'year': 2024, 'works_count': 1, 'cited_by_co...</td>\n",
       "      <td>17</td>\n",
       "      <td>192</td>\n",
       "      <td>6</td>\n",
       "      <td>2013</td>\n",
       "      <td>3</td>\n",
       "      <td>female</td>\n",
       "      <td>W_NL</td>\n",
       "      <td>2</td>\n",
       "      <td>549</td>\n",
       "      <td>-1.0</td>\n",
       "    </tr>\n",
       "  </tbody>\n",
       "</table>\n",
       "</div>"
      ],
      "text/plain": [
       "                                  id           display_name  \\\n",
       "0   https://openalex.org/A5075490374           Mayu Shimoda   \n",
       "1   https://openalex.org/A5055752337    Hatice Sonay Yalçin   \n",
       "2   https://openalex.org/A5055969617    Aakanksha Chowdhery   \n",
       "3   https://openalex.org/A5075596205          Sae Hyun Park   \n",
       "4   https://openalex.org/A5045331334            Lilian Tian   \n",
       "5   https://openalex.org/A5023284716          Jodi Turnbull   \n",
       "6   https://openalex.org/A5022186955           Nadzrul Aida   \n",
       "7   https://openalex.org/A5067614835          Yang Rui-song   \n",
       "8   https://openalex.org/A5011698241  S Sadeghi Dehcheshmeh   \n",
       "9   https://openalex.org/A5030494282       Samuel K. L. Lai   \n",
       "10  https://openalex.org/A5049626826        Vedat Karadeniz   \n",
       "11  https://openalex.org/A5046494003       A Anssari-Benham   \n",
       "12  https://openalex.org/A5068258885        Jennifer Girard   \n",
       "\n",
       "                                         affiliations  \\\n",
       "0   [{'institution': {'id': 'https://openalex.org/...   \n",
       "1   [{'institution': {'id': 'https://openalex.org/...   \n",
       "2   [{'institution': {'id': 'https://openalex.org/...   \n",
       "3   [{'institution': {'id': 'https://openalex.org/...   \n",
       "4   [{'institution': {'id': 'https://openalex.org/...   \n",
       "5   [{'institution': {'id': 'https://openalex.org/...   \n",
       "6   [{'institution': {'id': 'https://openalex.org/...   \n",
       "7   [{'institution': {'id': 'https://openalex.org/...   \n",
       "8   [{'institution': {'id': 'https://openalex.org/...   \n",
       "9   [{'institution': {'id': 'https://openalex.org/...   \n",
       "10  [{'institution': {'id': 'https://openalex.org/...   \n",
       "11  [{'institution': {'id': 'https://openalex.org/...   \n",
       "12  [{'institution': {'id': 'https://openalex.org/...   \n",
       "\n",
       "                                       counts_by_year  works_count  \\\n",
       "0   [{'year': 2022, 'works_count': 1, 'cited_by_co...            5   \n",
       "1   [{'year': 2023, 'works_count': 1, 'cited_by_co...            4   \n",
       "2   [{'year': 2024, 'works_count': 2, 'cited_by_co...           53   \n",
       "3   [{'year': 2024, 'works_count': 0, 'cited_by_co...            6   \n",
       "4   [{'year': 2024, 'works_count': 0, 'cited_by_co...            1   \n",
       "5   [{'year': 2024, 'works_count': 0, 'cited_by_co...           17   \n",
       "6   [{'year': 2023, 'works_count': 1, 'cited_by_co...            3   \n",
       "7                                                  []            1   \n",
       "8   [{'year': 2014, 'works_count': 0, 'cited_by_co...            1   \n",
       "9   [{'year': 2017, 'works_count': 0, 'cited_by_co...            1   \n",
       "10  [{'year': 2023, 'works_count': 0, 'cited_by_co...           29   \n",
       "11  [{'year': 2021, 'works_count': 0, 'cited_by_co...            1   \n",
       "12  [{'year': 2024, 'works_count': 1, 'cited_by_co...           17   \n",
       "\n",
       "    cited_by_count  h_index  year  career_age  gender  race  h_index_2016  \\\n",
       "0                0        0  2010           6  female     A             0   \n",
       "1                1        1  2012           4  female  B_NL             0   \n",
       "2             1101       15  2009           7  female     A             7   \n",
       "3              189        4  2010           6  female     A             3   \n",
       "4               49        1  2010           6  female     A             1   \n",
       "5              101        6  2011           5  female  W_NL             1   \n",
       "6                1        1  2011           5    male     A             0   \n",
       "7                0        0  2011           5    male     A             0   \n",
       "8                1        1  2011           5    male     A             1   \n",
       "9                2        1  2011           5    male     A             1   \n",
       "10              25        3  2009           7    male  W_NL             1   \n",
       "11              23        1  2011           5    male     A             1   \n",
       "12             192        6  2013           3  female  W_NL             2   \n",
       "\n",
       "    affiliation_h_index  cited_per_work_first_5yrs  \n",
       "0                    -1                       -1.0  \n",
       "1                    -1                       -1.0  \n",
       "2                   897                       -1.0  \n",
       "3                   165                       -1.0  \n",
       "4                   989                       -1.0  \n",
       "5                   322                       -1.0  \n",
       "6                    -1                       -1.0  \n",
       "7                   131                       -1.0  \n",
       "8                   129                       -1.0  \n",
       "9                   129                       -1.0  \n",
       "10                   77                       -1.0  \n",
       "11                  484                       -1.0  \n",
       "12                  549                       -1.0  "
      ]
     },
     "execution_count": 15,
     "metadata": {},
     "output_type": "execute_result"
    }
   ],
   "source": [
    "authors_df"
   ]
  },
  {
   "cell_type": "markdown",
   "metadata": {},
   "source": [
    "### 学習と予測"
   ]
  },
  {
   "cell_type": "code",
   "execution_count": 16,
   "metadata": {},
   "outputs": [],
   "source": [
    "authors_df=pd.read_pickle('./supplementary/authors_h_index.pickle')"
   ]
  },
  {
   "cell_type": "code",
   "execution_count": 17,
   "metadata": {},
   "outputs": [
    {
     "name": "stdout",
     "output_type": "stream",
     "text": [
      "Number of valid data for regression: 84\n"
     ]
    }
   ],
   "source": [
    "authors_valid=authors_df[authors_df['affiliation_h_index']>=0].reset_index(drop=True)\n",
    "print(f'Number of valid data for regression: {authors_valid.shape[0]}')"
   ]
  },
  {
   "cell_type": "code",
   "execution_count": 18,
   "metadata": {},
   "outputs": [],
   "source": [
    "from sklearn.model_selection import train_test_split\n",
    "from sklearn.linear_model import LinearRegression\n",
    "from sklearn.preprocessing import OneHotEncoder\n",
    "from sklearn.compose import ColumnTransformer\n",
    "from sklearn.metrics import r2_score\n",
    "\n",
    "# Define X and y of multiple regression analysis\n",
    "X = authors_valid[['h_index_2016','affiliation_h_index','race','gender','works_count']].copy()\n",
    "y = authors_valid['h_index'].copy()\n",
    "\n",
    "# Convert race and gender to one hot vectors\n",
    "column_trans = ColumnTransformer(\n",
    "    [('race_category',OneHotEncoder(),['race']),\n",
    "     ('gender_category',OneHotEncoder(),['gender'])],\n",
    "    remainder='passthrough'\n",
    ")\n",
    "X = pd.get_dummies(X, columns=['gender','race'])#, drop_first=True)\n",
    "X = X.apply(lambda x: x.map({True: 1, False: 0}) if x.dtype == bool else x)\n",
    "\n",
    "# Split data\n",
    "X_train, X_test, y_train, y_test = train_test_split(X, y, test_size=0.25, random_state=0)\n",
    "\n",
    "# Set up model\n",
    "model = LinearRegression()\n",
    "\n",
    "# Fitting\n",
    "model.fit(X_train, y_train)\n",
    "\n",
    "# Predictions on the training set\n",
    "y_train_pred = model.predict(X_train)\n",
    "\n",
    "# Predictions on the test set\n",
    "y_test_pred = model.predict(X_test)"
   ]
  },
  {
   "cell_type": "code",
   "execution_count": 19,
   "metadata": {},
   "outputs": [
    {
     "data": {
      "image/png": "[encoded data removed]",
      "text/plain": [
       "<Figure size 1200x500 with 2 Axes>"
      ]
     },
     "metadata": {},
     "output_type": "display_data"
    }
   ],
   "source": [
    "def plot_evaluation(ax, y, y_pred, *, type='', color='blue'):\n",
    "    ax.scatter(y, y_pred, color=color, label=f'Actual vs Predicted ({type})')\n",
    "    ax.plot([min(y), max(y)], [min(y), max(y)], color='red', linestyle='--')\n",
    "    ax.set_xlabel('Actual h_index')\n",
    "    ax.set_ylabel('Predicted h_index')\n",
    "    ax.set_title(f'Actual vs Predicted h_index ({type})')\n",
    "    ax.legend()\n",
    "    \n",
    "# 実測値と予測値の比較のグラフを作成する\n",
    "fig, axs = plt.subplots(1,2,figsize=(12,5))\n",
    "plot_evaluation(axs[0], y_train, y_train_pred, type='Training',color='blue')\n",
    "plot_evaluation(axs[1], y_test, y_test_pred, type='Testing',color='green')\n",
    "plt.show()"
   ]
  },
  {
   "cell_type": "code",
   "execution_count": 20,
   "metadata": {},
   "outputs": [
    {
     "name": "stdout",
     "output_type": "stream",
     "text": [
      "Training set R^2 score: 0.6386240069961935\n",
      "Testing set R^2 score: 0.4790920861254766\n"
     ]
    }
   ],
   "source": [
    "# Evaluate the model using R^2 score\n",
    "train_r2 = r2_score(y_train, y_train_pred)\n",
    "test_r2 = r2_score(y_test, y_test_pred)\n",
    "\n",
    "print(\"Training set R^2 score:\", train_r2)\n",
    "print(\"Testing set R^2 score:\", test_r2)"
   ]
  },
  {
   "cell_type": "code",
   "execution_count": 21,
   "metadata": {},
   "outputs": [
    {
     "name": "stdout",
     "output_type": "stream",
     "text": [
      "{'affiliation_h_index': '0.001',\n",
      " 'gender_female': '-0.282',\n",
      " 'gender_male': '0.282',\n",
      " 'h_index_2016': '0.885',\n",
      " 'race_A': '0.388',\n",
      " 'race_B_NL': '-1.102',\n",
      " 'race_HL': '0.361',\n",
      " 'race_W_NL': '0.353',\n",
      " 'works_count': '0.100'}\n"
     ]
    },
    {
     "data": {
      "text/plain": [
       "<matplotlib.collections.LineCollection at 0x143ba0490>"
      ]
     },
     "execution_count": 21,
     "metadata": {},
     "output_type": "execute_result"
    },
    {
     "data": {
      "image/png": "[encoded data removed]",
      "text/plain": [
       "<Figure size 640x480 with 1 Axes>"
      ]
     },
     "metadata": {},
     "output_type": "display_data"
    }
   ],
   "source": [
    "np.set_printoptions(suppress=True)\n",
    "coefficients = {col: f'{coef:.3f}' for col, coef in zip(X.columns, model.coef_)}\n",
    "pprint(coefficients)\n",
    "plt.barh(np.arange(0,len(coefficients)),[float(v) for v in coefficients.values()],tick_label=list(coefficients.keys()))\n",
    "plt.vlines(0,ymin=-0.5,ymax=len(coefficients)-0.5, colors='black', alpha=0.5)"
   ]
  },
  {
   "cell_type": "markdown",
   "metadata": {},
   "source": [
    "W_NL: white, non latino ;\n",
    "HL: hispano latino ;\n",
    "A: asian, non latino ;\n",
    "B_NL: black, non latino ."
   ]
  },
  {
   "cell_type": "code",
   "execution_count": 86,
   "metadata": {},
   "outputs": [
    {
     "data": {
      "text/plain": [
       "(84, 27)"
      ]
     },
     "execution_count": 86,
     "metadata": {},
     "output_type": "execute_result"
    }
   ],
   "source": [
    "# len(X), len(X[X['race_W_NL']==1])"
   ]
  },
  {
   "cell_type": "markdown",
   "metadata": {},
   "source": [
    "# Playground"
   ]
  },
  {
   "cell_type": "markdown",
   "metadata": {},
   "source": [
    "##  大学別h-index高い順に並べる"
   ]
  },
  {
   "cell_type": "code",
   "execution_count": 32,
   "metadata": {},
   "outputs": [
    {
     "data": {
      "text/html": [
       "<div>\n",
       "<style scoped>\n",
       "    .dataframe tbody tr th:only-of-type {\n",
       "        vertical-align: middle;\n",
       "    }\n",
       "\n",
       "    .dataframe tbody tr th {\n",
       "        vertical-align: top;\n",
       "    }\n",
       "\n",
       "    .dataframe thead th {\n",
       "        text-align: right;\n",
       "    }\n",
       "</style>\n",
       "<table border=\"1\" class=\"dataframe\">\n",
       "  <thead>\n",
       "    <tr style=\"text-align: right;\">\n",
       "      <th></th>\n",
       "      <th>display_name</th>\n",
       "      <th>country_code</th>\n",
       "      <th>works_count</th>\n",
       "      <th>cited_by_count</th>\n",
       "      <th>h_index</th>\n",
       "    </tr>\n",
       "  </thead>\n",
       "  <tbody>\n",
       "    <tr>\n",
       "      <th>0</th>\n",
       "      <td>Harvard University</td>\n",
       "      <td>US</td>\n",
       "      <td>587541</td>\n",
       "      <td>34233000</td>\n",
       "      <td>1533</td>\n",
       "    </tr>\n",
       "    <tr>\n",
       "      <th>1</th>\n",
       "      <td>Stanford University</td>\n",
       "      <td>US</td>\n",
       "      <td>404814</td>\n",
       "      <td>20539231</td>\n",
       "      <td>1299</td>\n",
       "    </tr>\n",
       "    <tr>\n",
       "      <th>2</th>\n",
       "      <td>Massachusetts Institute of Technology</td>\n",
       "      <td>US</td>\n",
       "      <td>270986</td>\n",
       "      <td>15461728</td>\n",
       "      <td>1198</td>\n",
       "    </tr>\n",
       "    <tr>\n",
       "      <th>3</th>\n",
       "      <td>Howard Hughes Medical Institute</td>\n",
       "      <td>US</td>\n",
       "      <td>82758</td>\n",
       "      <td>11935082</td>\n",
       "      <td>1180</td>\n",
       "    </tr>\n",
       "    <tr>\n",
       "      <th>4</th>\n",
       "      <td>University of California, Berkeley</td>\n",
       "      <td>US</td>\n",
       "      <td>337646</td>\n",
       "      <td>16283225</td>\n",
       "      <td>1123</td>\n",
       "    </tr>\n",
       "    <tr>\n",
       "      <th>5</th>\n",
       "      <td>University of Washington</td>\n",
       "      <td>US</td>\n",
       "      <td>408778</td>\n",
       "      <td>16333769</td>\n",
       "      <td>1075</td>\n",
       "    </tr>\n",
       "    <tr>\n",
       "      <th>6</th>\n",
       "      <td>National Institutes of Health</td>\n",
       "      <td>US</td>\n",
       "      <td>235874</td>\n",
       "      <td>14733841</td>\n",
       "      <td>1066</td>\n",
       "    </tr>\n",
       "    <tr>\n",
       "      <th>7</th>\n",
       "      <td>Johns Hopkins University</td>\n",
       "      <td>US</td>\n",
       "      <td>374819</td>\n",
       "      <td>16328388</td>\n",
       "      <td>1061</td>\n",
       "    </tr>\n",
       "    <tr>\n",
       "      <th>8</th>\n",
       "      <td>University of Michigan–Ann Arbor</td>\n",
       "      <td>US</td>\n",
       "      <td>861048</td>\n",
       "      <td>16487312</td>\n",
       "      <td>1035</td>\n",
       "    </tr>\n",
       "    <tr>\n",
       "      <th>9</th>\n",
       "      <td>French National Centre for Scientific Research</td>\n",
       "      <td>FR</td>\n",
       "      <td>1038113</td>\n",
       "      <td>29837510</td>\n",
       "      <td>1032</td>\n",
       "    </tr>\n",
       "  </tbody>\n",
       "</table>\n",
       "</div>"
      ],
      "text/plain": [
       "                                     display_name country_code  works_count  \\\n",
       "0                              Harvard University           US       587541   \n",
       "1                             Stanford University           US       404814   \n",
       "2           Massachusetts Institute of Technology           US       270986   \n",
       "3                 Howard Hughes Medical Institute           US        82758   \n",
       "4              University of California, Berkeley           US       337646   \n",
       "5                        University of Washington           US       408778   \n",
       "6                   National Institutes of Health           US       235874   \n",
       "7                        Johns Hopkins University           US       374819   \n",
       "8                University of Michigan–Ann Arbor           US       861048   \n",
       "9  French National Centre for Scientific Research           FR      1038113   \n",
       "\n",
       "   cited_by_count  h_index  \n",
       "0        34233000     1533  \n",
       "1        20539231     1299  \n",
       "2        15461728     1198  \n",
       "3        11935082     1180  \n",
       "4        16283225     1123  \n",
       "5        16333769     1075  \n",
       "6        14733841     1066  \n",
       "7        16328388     1061  \n",
       "8        16487312     1035  \n",
       "9        29837510     1032  "
      ]
     },
     "metadata": {},
     "output_type": "display_data"
    }
   ],
   "source": [
    "# 世界中の大学のh-indexランキング\n",
    "ins_json = Institutions().select(['display_name','country_code','works_count','cited_by_count','summary_stats'])\\\n",
    "                         .sort(summary_stats={'h_index':'desc'}).get(per_page=10)\n",
    "ins_df = pd.DataFrame(ins_json)\n",
    "\n",
    "# Get h-index\n",
    "ins_df['h_index'] = ins_df['summary_stats'].apply(lambda x:x['h_index'])\n",
    "ins_df = ins_df.drop(columns=['summary_stats'])\n",
    "\n",
    "display(ins_df)"
   ]
  },
  {
   "cell_type": "code",
   "execution_count": 33,
   "metadata": {},
   "outputs": [
    {
     "data": {
      "text/html": [
       "<div>\n",
       "<style scoped>\n",
       "    .dataframe tbody tr th:only-of-type {\n",
       "        vertical-align: middle;\n",
       "    }\n",
       "\n",
       "    .dataframe tbody tr th {\n",
       "        vertical-align: top;\n",
       "    }\n",
       "\n",
       "    .dataframe thead th {\n",
       "        text-align: right;\n",
       "    }\n",
       "</style>\n",
       "<table border=\"1\" class=\"dataframe\">\n",
       "  <thead>\n",
       "    <tr style=\"text-align: right;\">\n",
       "      <th></th>\n",
       "      <th>display_name</th>\n",
       "      <th>Japanese_name</th>\n",
       "      <th>works_count</th>\n",
       "      <th>cited_by_count</th>\n",
       "      <th>h_index</th>\n",
       "    </tr>\n",
       "  </thead>\n",
       "  <tbody>\n",
       "    <tr>\n",
       "      <th>0</th>\n",
       "      <td>The University of Tokyo</td>\n",
       "      <td>東京大学</td>\n",
       "      <td>402483</td>\n",
       "      <td>9996029</td>\n",
       "      <td>727</td>\n",
       "    </tr>\n",
       "    <tr>\n",
       "      <th>1</th>\n",
       "      <td>Kyoto University</td>\n",
       "      <td>京都大学</td>\n",
       "      <td>288894</td>\n",
       "      <td>7182048</td>\n",
       "      <td>646</td>\n",
       "    </tr>\n",
       "    <tr>\n",
       "      <th>2</th>\n",
       "      <td>Osaka University</td>\n",
       "      <td>大阪大学</td>\n",
       "      <td>246620</td>\n",
       "      <td>5589600</td>\n",
       "      <td>598</td>\n",
       "    </tr>\n",
       "    <tr>\n",
       "      <th>3</th>\n",
       "      <td>Japan Science and Technology Agency</td>\n",
       "      <td>-</td>\n",
       "      <td>52289</td>\n",
       "      <td>2651415</td>\n",
       "      <td>544</td>\n",
       "    </tr>\n",
       "    <tr>\n",
       "      <th>4</th>\n",
       "      <td>Tohoku University</td>\n",
       "      <td>東北大学</td>\n",
       "      <td>229793</td>\n",
       "      <td>4516434</td>\n",
       "      <td>493</td>\n",
       "    </tr>\n",
       "    <tr>\n",
       "      <th>5</th>\n",
       "      <td>Nagoya University</td>\n",
       "      <td>名古屋大学</td>\n",
       "      <td>170585</td>\n",
       "      <td>3378102</td>\n",
       "      <td>436</td>\n",
       "    </tr>\n",
       "    <tr>\n",
       "      <th>6</th>\n",
       "      <td>Kyushu University</td>\n",
       "      <td>九州大学</td>\n",
       "      <td>190124</td>\n",
       "      <td>3217406</td>\n",
       "      <td>420</td>\n",
       "    </tr>\n",
       "    <tr>\n",
       "      <th>7</th>\n",
       "      <td>National Institute of Advanced Industrial Scie...</td>\n",
       "      <td>産業技術総合研究所</td>\n",
       "      <td>80003</td>\n",
       "      <td>1890066</td>\n",
       "      <td>392</td>\n",
       "    </tr>\n",
       "    <tr>\n",
       "      <th>8</th>\n",
       "      <td>Tokyo Institute of Technology</td>\n",
       "      <td>東京工業大学</td>\n",
       "      <td>140341</td>\n",
       "      <td>2549463</td>\n",
       "      <td>391</td>\n",
       "    </tr>\n",
       "    <tr>\n",
       "      <th>9</th>\n",
       "      <td>Tokyo University of Science</td>\n",
       "      <td>東京理科大学</td>\n",
       "      <td>76864</td>\n",
       "      <td>1794774</td>\n",
       "      <td>389</td>\n",
       "    </tr>\n",
       "  </tbody>\n",
       "</table>\n",
       "</div>"
      ],
      "text/plain": [
       "                                        display_name Japanese_name  \\\n",
       "0                            The University of Tokyo          東京大学   \n",
       "1                                   Kyoto University          京都大学   \n",
       "2                                   Osaka University          大阪大学   \n",
       "3                Japan Science and Technology Agency             -   \n",
       "4                                  Tohoku University          東北大学   \n",
       "5                                  Nagoya University         名古屋大学   \n",
       "6                                  Kyushu University          九州大学   \n",
       "7  National Institute of Advanced Industrial Scie...     産業技術総合研究所   \n",
       "8                      Tokyo Institute of Technology        東京工業大学   \n",
       "9                        Tokyo University of Science        東京理科大学   \n",
       "\n",
       "   works_count  cited_by_count  h_index  \n",
       "0       402483         9996029      727  \n",
       "1       288894         7182048      646  \n",
       "2       246620         5589600      598  \n",
       "3        52289         2651415      544  \n",
       "4       229793         4516434      493  \n",
       "5       170585         3378102      436  \n",
       "6       190124         3217406      420  \n",
       "7        80003         1890066      392  \n",
       "8       140341         2549463      391  \n",
       "9        76864         1794774      389  "
      ]
     },
     "metadata": {},
     "output_type": "display_data"
    }
   ],
   "source": [
    "# 日本の大学のh-indexランキング\n",
    "ins_json = Institutions().select(['display_name','international','works_count','cited_by_count','summary_stats'])\\\n",
    "                         .filter(country_code='JP')\\\n",
    "                         .sort(summary_stats={'h_index':'desc'}).get(per_page=10)\n",
    "ins_df = pd.DataFrame(ins_json)\n",
    "\n",
    "# Get h-index\n",
    "ins_df['h_index'] = ins_df['summary_stats'].apply(lambda x:x['h_index'])\n",
    "ins_df = ins_df.drop(columns=['summary_stats'])\n",
    "\n",
    "# Get Japanese name\n",
    "jp_name = [entry['international']['display_name'].get('ja','-') for entry in ins_json]\n",
    "ins_df['Japanese_name'] = jp_name\n",
    "ins_df = ins_df.drop(columns=['international'])\n",
    "ins_df.insert(ins_df.columns.get_loc('display_name') + 1, 'Japanese_name', ins_df.pop('Japanese_name'))\n",
    "\n",
    "display(ins_df)"
   ]
  },
  {
   "cell_type": "markdown",
   "metadata": {},
   "source": [
    "## 個人のh-indexを時系列でプロット"
   ]
  },
  {
   "cell_type": "markdown",
   "metadata": {},
   "source": [
    "Section2と似ているようなプロセスで、ある研究者のh-indexを時系列でプロットします。  \n",
    "OpenAlexのデータの制限により、時系列は2011年から2024までだけができます。"
   ]
  },
  {
   "cell_type": "code",
   "execution_count": 34,
   "metadata": {},
   "outputs": [
    {
     "data": {
      "text/html": [
       "<div>\n",
       "<style scoped>\n",
       "    .dataframe tbody tr th:only-of-type {\n",
       "        vertical-align: middle;\n",
       "    }\n",
       "\n",
       "    .dataframe tbody tr th {\n",
       "        vertical-align: top;\n",
       "    }\n",
       "\n",
       "    .dataframe thead th {\n",
       "        text-align: right;\n",
       "    }\n",
       "</style>\n",
       "<table border=\"1\" class=\"dataframe\">\n",
       "  <thead>\n",
       "    <tr style=\"text-align: right;\">\n",
       "      <th></th>\n",
       "      <th>id</th>\n",
       "      <th>display_name</th>\n",
       "      <th>relevance_score</th>\n",
       "      <th>works_count</th>\n",
       "      <th>cited_by_count</th>\n",
       "      <th>2yr_mean_citedness</th>\n",
       "      <th>h_index</th>\n",
       "      <th>i10_index</th>\n",
       "    </tr>\n",
       "  </thead>\n",
       "  <tbody>\n",
       "    <tr>\n",
       "      <th>0</th>\n",
       "      <td>https://openalex.org/A5036688434</td>\n",
       "      <td>J. E. Hirsch</td>\n",
       "      <td>11917.848000</td>\n",
       "      <td>466</td>\n",
       "      <td>31822</td>\n",
       "      <td>1.875</td>\n",
       "      <td>69</td>\n",
       "      <td>249</td>\n",
       "    </tr>\n",
       "    <tr>\n",
       "      <th>1</th>\n",
       "      <td>https://openalex.org/A5072780714</td>\n",
       "      <td>J. E. Hirsch</td>\n",
       "      <td>655.623660</td>\n",
       "      <td>4</td>\n",
       "      <td>79</td>\n",
       "      <td>0.000</td>\n",
       "      <td>3</td>\n",
       "      <td>2</td>\n",
       "    </tr>\n",
       "    <tr>\n",
       "      <th>2</th>\n",
       "      <td>https://openalex.org/A5005488196</td>\n",
       "      <td>J. E. Hirsch</td>\n",
       "      <td>33.365334</td>\n",
       "      <td>1</td>\n",
       "      <td>0</td>\n",
       "      <td>0.000</td>\n",
       "      <td>0</td>\n",
       "      <td>0</td>\n",
       "    </tr>\n",
       "    <tr>\n",
       "      <th>3</th>\n",
       "      <td>https://openalex.org/A5031101292</td>\n",
       "      <td>J. E. Hirsch</td>\n",
       "      <td>33.351562</td>\n",
       "      <td>1</td>\n",
       "      <td>0</td>\n",
       "      <td>0.000</td>\n",
       "      <td>0</td>\n",
       "      <td>0</td>\n",
       "    </tr>\n",
       "    <tr>\n",
       "      <th>4</th>\n",
       "      <td>https://openalex.org/A5039441333</td>\n",
       "      <td>J. E. Hirsch</td>\n",
       "      <td>33.351562</td>\n",
       "      <td>1</td>\n",
       "      <td>0</td>\n",
       "      <td>0.000</td>\n",
       "      <td>0</td>\n",
       "      <td>0</td>\n",
       "    </tr>\n",
       "  </tbody>\n",
       "</table>\n",
       "</div>"
      ],
      "text/plain": [
       "                                 id  display_name  relevance_score  \\\n",
       "0  https://openalex.org/A5036688434  J. E. Hirsch     11917.848000   \n",
       "1  https://openalex.org/A5072780714  J. E. Hirsch       655.623660   \n",
       "2  https://openalex.org/A5005488196  J. E. Hirsch        33.365334   \n",
       "3  https://openalex.org/A5031101292  J. E. Hirsch        33.351562   \n",
       "4  https://openalex.org/A5039441333  J. E. Hirsch        33.351562   \n",
       "\n",
       "   works_count  cited_by_count  2yr_mean_citedness  h_index  i10_index  \n",
       "0          466           31822               1.875       69        249  \n",
       "1            4              79               0.000        3          2  \n",
       "2            1               0               0.000        0          0  \n",
       "3            1               0               0.000        0          0  \n",
       "4            1               0               0.000        0          0  "
      ]
     },
     "metadata": {},
     "output_type": "display_data"
    }
   ],
   "source": [
    "# 著者を検索します\n",
    "name = \"J. E. Hirsch\"\n",
    "\n",
    "auth_json = Authors().search_filter(display_name=name)\\\n",
    "            .select([\"id\",\"display_name\",\"relevance_score\",\"works_count\",\"cited_by_count\",\"summary_stats\"]).get()\n",
    "auth_df = pd.DataFrame(auth_json)\n",
    "auth_df = auth_df.join(pd.DataFrame(auth_df['summary_stats'].tolist()))\n",
    "auth_df = auth_df.drop(columns=['summary_stats'])\n",
    "\n",
    "display(auth_df.head())"
   ]
  },
  {
   "cell_type": "code",
   "execution_count": 35,
   "metadata": {},
   "outputs": [
    {
     "name": "stdout",
     "output_type": "stream",
     "text": [
      "https://openalex.org/A5036688434\n",
      "\n",
      "Last known institutions of the select author:\n",
      "['University of California, San Diego']\n",
      "\n",
      "Concepts of the select author:\n",
      "['Physics',\n",
      " 'Quantum mechanics',\n",
      " 'Condensed matter physics',\n",
      " 'Superconductivity',\n",
      " 'Mathematics',\n",
      " 'Materials science',\n",
      " 'Nuclear physics',\n",
      " 'Chemistry',\n",
      " 'Engineering',\n",
      " 'Electron',\n",
      " 'Thermodynamics',\n",
      " 'Organic chemistry',\n",
      " 'Computer science',\n",
      " 'Medicine',\n",
      " 'Biology',\n",
      " 'Statistics']\n"
     ]
    }
   ],
   "source": [
    "# 検索結果から著者を指定します\n",
    "i = 0\n",
    "auth_id = auth_df.loc[i,\"id\"]\n",
    "print(auth_id)\n",
    "auth_name = auth_df.loc[i,\"display_name\"]\n",
    "\n",
    "# 著者データを確認します\n",
    "data = Authors()[auth_id]\n",
    "# 著者の最新の所属機関\n",
    "institutions = [entry['display_name'] for entry in data['last_known_institutions']]\n",
    "print('\\nLast known institutions of the select author:')\n",
    "pprint(institutions)\n",
    "# 著者が発表した論文のテーマ\n",
    "concepts = [entry['display_name'] for entry in data['x_concepts']]\n",
    "print('\\nConcepts of the select author:')\n",
    "pprint(concepts)"
   ]
  },
  {
   "cell_type": "code",
   "execution_count": 36,
   "metadata": {},
   "outputs": [
    {
     "name": "stdout",
     "output_type": "stream",
     "text": [
      "Fetching 467 objects. it may takes 0.04 to 0.12 minutes\n"
     ]
    },
    {
     "name": "stderr",
     "output_type": "stream",
     "text": [
      "4it [00:04,  1.07s/it]\n"
     ]
    },
    {
     "data": {
      "image/png": "[encoded data removed]",
      "text/plain": [
       "<Figure size 1200x400 with 3 Axes>"
      ]
     },
     "metadata": {},
     "output_type": "display_data"
    }
   ],
   "source": [
    "pyalexObj = Works().filter(author={\"id\":auth_id},is_paratext=False)\\\n",
    "                   .select(['cited_by_count','counts_by_year','publication_year'])\\\n",
    "                   .sort(publication_year=\"asc\")\n",
    "works_json = util.getAll(pyalexObj)\n",
    "\n",
    "first_publication_year = works_json[0][\"publication_year\"] \n",
    "indices = pd.DataFrame(index=range(max(first_publication_year, 2011), 2025),\n",
    "                         columns = ['works_count','cited_by_count','h_index'])\n",
    "\n",
    "# Calculate h-index for each year\n",
    "for year in range(max(first_publication_year, 2011), 2025):\n",
    "    citations = get_citations(works_json, first_publication_year, year)\n",
    "    indices.loc[year,'works_count']=len(citations)\n",
    "    indices.loc[year,'cited_by_count']=sum(citations)\n",
    "    indices.loc[year,'h_index']=calculate_h_index(citations)\n",
    "\n",
    "# Create a figure and axes for subplots\n",
    "fig, axs = plt.subplots(1, 3, figsize=(12, 4))\n",
    "\n",
    "for i, col in enumerate(indices.columns):\n",
    "        ax = axs[i]\n",
    "        ax.plot(indices.index, indices[col])\n",
    "        ax.set_xlabel('Year')\n",
    "        ax.set_ylabel('Index')\n",
    "        ax.set_title(col)\n",
    "        ax.set_xticks(indices.index[::5])\n",
    "\n",
    "plt.tight_layout()\n",
    "plt.show()"
   ]
  }
 ],
 "metadata": {
  "kernelspec": {
   "display_name": "Python 3",
   "language": "python",
   "name": "python3"
  },
  "language_info": {
   "codemirror_mode": {
    "name": "ipython",
    "version": 3
   },
   "file_extension": ".py",
   "mimetype": "text/x-python",
   "name": "python",
   "nbconvert_exporter": "python",
   "pygments_lexer": "ipython3",
   "version": "3.9.6"
  }
 },
 "nbformat": 4,
 "nbformat_minor": 2
}
