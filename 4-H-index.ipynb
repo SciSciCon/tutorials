{
 "cells": [
  {
   "cell_type": "markdown",
   "metadata": {},
   "source": [
    "# Resaercher Evaluation - H-index"
   ]
  },
  {
   "cell_type": "markdown",
   "metadata": {},
   "source": [
    "# 説明"
   ]
  },
  {
   "cell_type": "markdown",
   "metadata": {},
   "source": [
    "## h-index（h指数）とは何か？"
   ]
  },
  {
   "cell_type": "markdown",
   "metadata": {},
   "source": [
    "h-indexはアメリカの物理学者Jorge E. Hirsch氏が2005年に発表した研究者の評価指標です。\n",
    "\n",
    "> 要旨：私は、研究者の科学的産出を特徴づける有用な指標として、被引用数がhより大きい論文の数と定義される指数hを提案した。\n",
    "> \n",
    ">> Abstract: I propose the index h, defined as the number of papers with citation number ≥h, as a useful index to characterize the scientific output of a researcher. \n",
    "> \n",
    "> Hirsch, J. E. (2005). An index to quantify an individual's scientific research output. Proceedings of the National Academy of Sciences, 102(46), 16569-16572. https://www.pnas.org/doi/abs/10.1073/pnas.0507655102\n",
    "\n",
    "ある科学者が発表したN本論文の中で、**h回以上引用された論文がh本あり**、それ以外のN-h本論文の被引用数が全部hより小さい場合、その科学者の**h-indexはh**です。\n",
    " \n",
    "例えば、h-index=**20**というのは、被引用数が**20**以上の論文が**20**本あり、それ以外の論文はすべて被引用数が20本未満だということです。"
   ]
  },
  {
   "cell_type": "markdown",
   "metadata": {},
   "source": [
    "## なぜ提案したのか？どうして重要なのか？"
   ]
  },
  {
   "cell_type": "markdown",
   "metadata": {},
   "source": [
    "リソースが限られた世界で、個人の科学的成果の累積的影響力を定量化することは、評価や比較のために必要とされます。\n",
    "\n",
    "|指数|長所|短所|\n",
    "|:-|:-|:-|\n",
    "|発表論文数(N)|研究者の生産力を測る|論文の影響力が無視される|\n",
    "|総被引用数(C)|研究者の総影響力を測る|1. 少数の大ヒット論文に歪まれる可能性があり、特に、これらの大ヒットが共著である場合、個人のキャリア全体を代表していない可能性がある。<br>2. 引用度の高いレビューに過度な重みを与えている。|\n",
    "|平均被引用数(C/N)|異なる年齢の科学者を比較することができる|1. 生産性が高い研究者に不利になる。2. 高被引用数の論文に歪まれる可能性がある。|\n",
    "|被引用数≥cの論文数|上記の指標の欠点を克服し、広範囲かつ持続的な影響を測る。|cは任意であり、一部の科学者に有利な一方で他の科学者には不利になる。|\n",
    "|上位q個の論文の被引用数|上記の指標の欠点をほとんど克服する。|1. 単一の数値ではないため、科学者を比較するには困難である。<br>2. qは任意であり、一部の科学者に有利な一方で他の科学者には不利になる。|\n"
   ]
  },
  {
   "cell_type": "markdown",
   "metadata": {},
   "source": [
    "# 算出"
   ]
  },
  {
   "cell_type": "markdown",
   "metadata": {},
   "source": [
    "## 0. 準備：pyalex"
   ]
  },
  {
   "cell_type": "code",
   "execution_count": null,
   "metadata": {},
   "outputs": [],
   "source": [
    "import sys\n",
    "import os\n",
    "\n",
    "%cd /content/sample_data/\n",
    "!git clone https://github.com/ScisciJP/scisciJP2024_tutorial.git\n",
    "\n",
    "sys.path.append('/content/sample_data/scisciJP2024_tutorial')\n",
    "print(os.getcwd())\n",
    "os.chdir('/content/sample_data/scisciJP2024_tutorial')\n",
    "sys.path\n"
   ]
  },
  {
   "cell_type": "code",
   "execution_count": 1,
   "metadata": {},
   "outputs": [
    {
     "name": "stdout",
     "output_type": "stream",
     "text": [
      "Defaulting to user installation because normal site-packages is not writeable\n"
     ]
    },
    {
     "name": "stdout",
     "output_type": "stream",
     "text": [
      "Requirement already satisfied: pyalex in /home/reinhard/.local/lib/python3.10/site-packages (0.13)\n",
      "Requirement already satisfied: requests in /usr/lib/python3/dist-packages (from pyalex) (2.25.1)\n",
      "Requirement already satisfied: urllib3 in /home/reinhard/.local/lib/python3.10/site-packages (from pyalex) (1.26.18)\n",
      "Note: you may need to restart the kernel to use updated packages.\n"
     ]
    }
   ],
   "source": [
    "%pip install pyalex"
   ]
  },
  {
   "cell_type": "code",
   "execution_count": 2,
   "metadata": {},
   "outputs": [],
   "source": [
    "import pandas as pd\n",
    "import numpy as np\n",
    "import matplotlib.pyplot as plt\n",
    "import pyalex\n",
    "from pyalex import Works, Authors, Institutions\n",
    "from pprint import pprint\n",
    "import util\n",
    "\n",
    "# pyalex.config.email = \"your@email.address\"\n",
    "pyalex.config.email = \"wangsiyuan1209@gmail.com\"\n",
    "\n",
    "def plot_citations(ax, citations, *,\\\n",
    "                   xlabel='Papers', ylabel='# Citations', title='',\\\n",
    "                   logx=False, logy=False, showline=False, h_index=0):\n",
    "\n",
    "    ax.set_title(title)\n",
    "    ax.set_xlabel(xlabel)\n",
    "    ax.set_ylabel(ylabel)\n",
    "    \n",
    "    # log plotを設定する\n",
    "    if logx: \n",
    "        ax.set_xscale('log')\n",
    "    if logy: \n",
    "        ax.set_yscale('log')\n",
    "    \n",
    "    # stem plotで論文の被引用数を表示する\n",
    "    markerline, stemlines, baseline = ax.stem(np.arange(1, len(citations) + 1), citations, basefmt=\" \")\n",
    "    \n",
    "    # stemの線を表示するかを設定する\n",
    "    if showline:\n",
    "        plt.setp(stemlines, 'color', 'skyblue')\n",
    "        plt.setp(markerline, 'color', 'lightcoral')\n",
    "    else:\n",
    "        stemlines.remove()\n",
    "        plt.setp(markerline, 'color', 'C0')\n",
    "    \n",
    "    # h_indexが入力される場合、45°の補助線を表示する\n",
    "    if h_index!=0:\n",
    "        xlim, ylim = ax.get_xlim(), ax.get_ylim()\n",
    "        ax.plot([1, h_index], [1, h_index], ls=\"--\", color='crimson')\n",
    "        ax.plot(xlim, [h_index, h_index], color='gray', linestyle='--')\n",
    "        ax.plot([h_index, h_index], ylim, color='gray', linestyle='--')\n",
    "        ax.set_xlim(xlim)\n",
    "        ax.set_ylim(ylim)"
   ]
  },
  {
   "cell_type": "markdown",
   "metadata": {},
   "source": [
    "## １. h-indexの計算方法：Dashun Wangを例に"
   ]
  },
  {
   "cell_type": "markdown",
   "metadata": {},
   "source": [
    "SciSci分野において有名な研究者のDashun Wangを例に、h-indexの計算方法を示します。\n",
    "\n",
    "主な変数：\n",
    "- citations_test: 論文の発表日順に並べた被引用数のリスト。\n",
    "- sorted_citations_test: 被引用数が大きい順に並べた被引用数のリスト。"
   ]
  },
  {
   "cell_type": "code",
   "execution_count": 3,
   "metadata": {},
   "outputs": [
    {
     "data": {
      "text/html": [
       "<div>\n",
       "<style scoped>\n",
       "    .dataframe tbody tr th:only-of-type {\n",
       "        vertical-align: middle;\n",
       "    }\n",
       "\n",
       "    .dataframe tbody tr th {\n",
       "        vertical-align: top;\n",
       "    }\n",
       "\n",
       "    .dataframe thead th {\n",
       "        text-align: right;\n",
       "    }\n",
       "</style>\n",
       "<table border=\"1\" class=\"dataframe\">\n",
       "  <thead>\n",
       "    <tr style=\"text-align: right;\">\n",
       "      <th></th>\n",
       "      <th>id</th>\n",
       "      <th>orcid</th>\n",
       "      <th>display_name</th>\n",
       "      <th>display_name_alternatives</th>\n",
       "      <th>relevance_score</th>\n",
       "      <th>works_count</th>\n",
       "      <th>cited_by_count</th>\n",
       "      <th>summary_stats</th>\n",
       "      <th>ids</th>\n",
       "      <th>affiliations</th>\n",
       "      <th>last_known_institution</th>\n",
       "      <th>last_known_institutions</th>\n",
       "      <th>x_concepts</th>\n",
       "      <th>counts_by_year</th>\n",
       "      <th>works_api_url</th>\n",
       "      <th>updated_date</th>\n",
       "      <th>created_date</th>\n",
       "    </tr>\n",
       "  </thead>\n",
       "  <tbody>\n",
       "    <tr>\n",
       "      <th>0</th>\n",
       "      <td>https://openalex.org/A5002041772</td>\n",
       "      <td>https://orcid.org/0000-0002-7054-2206</td>\n",
       "      <td>Dashun Wang</td>\n",
       "      <td>[Dashun Wang, Wang Da‐shun]</td>\n",
       "      <td>6332.4556</td>\n",
       "      <td>130</td>\n",
       "      <td>5638</td>\n",
       "      <td>{'2yr_mean_citedness': 3.048780487804878, 'h_i...</td>\n",
       "      <td>{'openalex': 'https://openalex.org/A5002041772...</td>\n",
       "      <td>[{'institution': {'id': 'https://openalex.org/...</td>\n",
       "      <td>{'id': 'https://openalex.org/I111979921', 'ror...</td>\n",
       "      <td>[{'id': 'https://openalex.org/I111979921', 'ro...</td>\n",
       "      <td>[{'id': 'https://openalex.org/C41008148', 'wik...</td>\n",
       "      <td>[{'year': 2024, 'works_count': 2, 'cited_by_co...</td>\n",
       "      <td>https://api.openalex.org/works?filter=author.i...</td>\n",
       "      <td>2024-03-08T02:51:48.593312</td>\n",
       "      <td>2023-07-21</td>\n",
       "    </tr>\n",
       "  </tbody>\n",
       "</table>\n",
       "</div>"
      ],
      "text/plain": [
       "                                 id                                  orcid  \\\n",
       "0  https://openalex.org/A5002041772  https://orcid.org/0000-0002-7054-2206   \n",
       "\n",
       "  display_name    display_name_alternatives  relevance_score  works_count  \\\n",
       "0  Dashun Wang  [Dashun Wang, Wang Da‐shun]        6332.4556          130   \n",
       "\n",
       "   cited_by_count                                      summary_stats  \\\n",
       "0            5638  {'2yr_mean_citedness': 3.048780487804878, 'h_i...   \n",
       "\n",
       "                                                 ids  \\\n",
       "0  {'openalex': 'https://openalex.org/A5002041772...   \n",
       "\n",
       "                                        affiliations  \\\n",
       "0  [{'institution': {'id': 'https://openalex.org/...   \n",
       "\n",
       "                              last_known_institution  \\\n",
       "0  {'id': 'https://openalex.org/I111979921', 'ror...   \n",
       "\n",
       "                             last_known_institutions  \\\n",
       "0  [{'id': 'https://openalex.org/I111979921', 'ro...   \n",
       "\n",
       "                                          x_concepts  \\\n",
       "0  [{'id': 'https://openalex.org/C41008148', 'wik...   \n",
       "\n",
       "                                      counts_by_year  \\\n",
       "0  [{'year': 2024, 'works_count': 2, 'cited_by_co...   \n",
       "\n",
       "                                       works_api_url  \\\n",
       "0  https://api.openalex.org/works?filter=author.i...   \n",
       "\n",
       "                 updated_date created_date  \n",
       "0  2024-03-08T02:51:48.593312   2023-07-21  "
      ]
     },
     "metadata": {},
     "output_type": "display_data"
    }
   ],
   "source": [
    "# まずは、pyalexのsearch_filterを使用してDashun Wangのデータを検索します\n",
    "name = \"Dashun Wang\"\n",
    "authors_json = Authors().search_filter(display_name=name).get()\n",
    "authors_df = pd.DataFrame(authors_json)\n",
    "display(authors_df)"
   ]
  },
  {
   "cell_type": "code",
   "execution_count": 4,
   "metadata": {},
   "outputs": [
    {
     "name": "stdout",
     "output_type": "stream",
     "text": [
      "Fetching 130 objects. it may takes 0.01 to 0.03 minutes\n"
     ]
    },
    {
     "name": "stderr",
     "output_type": "stream",
     "text": [
      "2it [00:01,  1.05it/s]\n"
     ]
    }
   ],
   "source": [
    "# 次に、Dashun Wangのidを使用し、彼が発表したすべての論文の被引用数を獲得します\n",
    "author_id = authors_df.loc[0,\"id\"]\n",
    "pyalexObj = Works().filter(author={\"id\":author_id},is_paratext=False)\\\n",
    "                .select([\"cited_by_count\"])\\\n",
    "                .sort(publication_date=\"asc\") # 発表日順に並べ替えます\n",
    "citations_json = util.getAll(pyalexObj)\n",
    "citations_test= np.array([entry['cited_by_count'] for entry in citations_json])"
   ]
  },
  {
   "cell_type": "code",
   "execution_count": 5,
   "metadata": {},
   "outputs": [
    {
     "name": "stdout",
     "output_type": "stream",
     "text": [
      "The h-index of the researcher is: 28. (method 1)\n",
      "The h-index of the researcher is: 28. (method 2)\n"
     ]
    }
   ],
   "source": [
    "# そして、h-indexを算出します\n",
    "# 被引用数を大きい順に並べ替えます\n",
    "sorted_citations_test = np.array(np.sort(citations_test)[::-1])\n",
    "\n",
    "# 比較用のランキング\n",
    "ranking = np.arange(1,sorted_citations_test.size+1)\n",
    "\n",
    "# メソッド１：被引用数が論文のランキングより大きい論文を数えます。\n",
    "h_index = np.sum(sorted_citations_test >= ranking)\n",
    "print(f\"The h-index of the researcher is: {h_index}. (method 1)\")\n",
    "\n",
    "# メソッド２：図に示したように、論文被引用数の曲線と45°直線の交点の横座標がh-index。\n",
    "h_index = np.max(np.minimum(sorted_citations_test, ranking))\n",
    "print(f\"The h-index of the researcher is: {h_index}. (method 2)\")"
   ]
  },
  {
   "cell_type": "code",
   "execution_count": 6,
   "metadata": {},
   "outputs": [
    {
     "data": {
      "image/png": "[encoded data removed]",
      "text/plain": [
       "<Figure size 800x800 with 2 Axes>"
      ]
     },
     "metadata": {},
     "output_type": "display_data"
    }
   ],
   "source": [
    "# グラフを作成します。logyを使うため、yをcitations+1にします。\n",
    "fig, axs = plt.subplots(2, 1, figsize=(8, 8))\n",
    "# 上のグラフは発表日順に並べた論文の被引用数\n",
    "plot_citations(axs[0], citations_test+1, showline=True, logy=True,\\\n",
    "               xlabel='Papers (Ordered by Publication Date)',\\\n",
    "               title=f'Number of Citations of {name}')\n",
    "# 下のグラフは被引用数順に並べた論文の被引用数\n",
    "plot_citations(axs[1], sorted_citations_test+1, showline=True, logy=True, h_index=h_index,\\\n",
    "               xlabel='Papers (Ordered by #Citations)', \\\n",
    "               title=f'Number of Citations of {name} ($h$-index={h_index})')\n",
    "plt.tight_layout()\n",
    "plt.show()"
   ]
  },
  {
   "cell_type": "markdown",
   "metadata": {},
   "source": [
    "## 2. 実データからh-indexの算出"
   ]
  },
  {
   "cell_type": "markdown",
   "metadata": {},
   "source": [
    "Section 1のh-index計算方法を関数化して、openalexの実データからある研究者のh-indexを算出します。\n",
    "\n",
    "主な変数：\n",
    "- name: 検索のためのauthor_name。\n",
    "- authors_df: 著者の検索結果。 \n",
    "- author_id, author_name: 検索結果から指定された著者のidと名前。\n",
    "- citations: 指定された著者の論文の被引用数（大きい順に並べ替えた）。  "
   ]
  },
  {
   "cell_type": "code",
   "execution_count": 7,
   "metadata": {},
   "outputs": [],
   "source": [
    "# ここでは、Section 1のメソッド２を使います。\n",
    "def calculate_h_index(citations):\n",
    "    if len(citations)==0:\n",
    "        return 0\n",
    "    else:\n",
    "        citations = np.array(citations)\n",
    "        citations[::-1].sort()\n",
    "        ranking = np.arange(1,citations.size+1)\n",
    "        h_index = np.max(np.minimum(citations, ranking))\n",
    "        return h_index"
   ]
  },
  {
   "cell_type": "code",
   "execution_count": 8,
   "metadata": {},
   "outputs": [
    {
     "data": {
      "text/html": [
       "<div>\n",
       "<style scoped>\n",
       "    .dataframe tbody tr th:only-of-type {\n",
       "        vertical-align: middle;\n",
       "    }\n",
       "\n",
       "    .dataframe tbody tr th {\n",
       "        vertical-align: top;\n",
       "    }\n",
       "\n",
       "    .dataframe thead th {\n",
       "        text-align: right;\n",
       "    }\n",
       "</style>\n",
       "<table border=\"1\" class=\"dataframe\">\n",
       "  <thead>\n",
       "    <tr style=\"text-align: right;\">\n",
       "      <th></th>\n",
       "      <th>id</th>\n",
       "      <th>display_name</th>\n",
       "      <th>relevance_score</th>\n",
       "      <th>works_count</th>\n",
       "      <th>cited_by_count</th>\n",
       "      <th>2yr_mean_citedness</th>\n",
       "      <th>h_index</th>\n",
       "      <th>i10_index</th>\n",
       "    </tr>\n",
       "  </thead>\n",
       "  <tbody>\n",
       "    <tr>\n",
       "      <th>0</th>\n",
       "      <td>https://openalex.org/A5066175077</td>\n",
       "      <td>S. W. Hawking</td>\n",
       "      <td>13497.1700</td>\n",
       "      <td>415</td>\n",
       "      <td>72018</td>\n",
       "      <td>0.0</td>\n",
       "      <td>92</td>\n",
       "      <td>173</td>\n",
       "    </tr>\n",
       "    <tr>\n",
       "      <th>1</th>\n",
       "      <td>https://openalex.org/A5049022696</td>\n",
       "      <td>Frank Hawking</td>\n",
       "      <td>3480.1045</td>\n",
       "      <td>290</td>\n",
       "      <td>3394</td>\n",
       "      <td>0.0</td>\n",
       "      <td>29</td>\n",
       "      <td>101</td>\n",
       "    </tr>\n",
       "    <tr>\n",
       "      <th>2</th>\n",
       "      <td>https://openalex.org/A5032211209</td>\n",
       "      <td>David Hawking</td>\n",
       "      <td>3148.8430</td>\n",
       "      <td>143</td>\n",
       "      <td>2683</td>\n",
       "      <td>0.0</td>\n",
       "      <td>27</td>\n",
       "      <td>54</td>\n",
       "    </tr>\n",
       "    <tr>\n",
       "      <th>3</th>\n",
       "      <td>https://openalex.org/A5040791020</td>\n",
       "      <td>Paul Hawking</td>\n",
       "      <td>1877.3115</td>\n",
       "      <td>143</td>\n",
       "      <td>973</td>\n",
       "      <td>0.0</td>\n",
       "      <td>14</td>\n",
       "      <td>20</td>\n",
       "    </tr>\n",
       "    <tr>\n",
       "      <th>4</th>\n",
       "      <td>https://openalex.org/A5085511365</td>\n",
       "      <td>S. W. Hawking</td>\n",
       "      <td>1399.0116</td>\n",
       "      <td>1</td>\n",
       "      <td>786</td>\n",
       "      <td>0.0</td>\n",
       "      <td>1</td>\n",
       "      <td>1</td>\n",
       "    </tr>\n",
       "  </tbody>\n",
       "</table>\n",
       "</div>"
      ],
      "text/plain": [
       "                                 id   display_name  relevance_score  \\\n",
       "0  https://openalex.org/A5066175077  S. W. Hawking       13497.1700   \n",
       "1  https://openalex.org/A5049022696  Frank Hawking        3480.1045   \n",
       "2  https://openalex.org/A5032211209  David Hawking        3148.8430   \n",
       "3  https://openalex.org/A5040791020   Paul Hawking        1877.3115   \n",
       "4  https://openalex.org/A5085511365  S. W. Hawking        1399.0116   \n",
       "\n",
       "   works_count  cited_by_count  2yr_mean_citedness  h_index  i10_index  \n",
       "0          415           72018                 0.0       92        173  \n",
       "1          290            3394                 0.0       29        101  \n",
       "2          143            2683                 0.0       27         54  \n",
       "3          143             973                 0.0       14         20  \n",
       "4            1             786                 0.0        1          1  "
      ]
     },
     "metadata": {},
     "output_type": "display_data"
    }
   ],
   "source": [
    "# ブラックホールの研究者のHawkingを検索します。\n",
    "name = \"Hawking\"\n",
    "# 別の研究者に変えることもできます。\n",
    "# もともとはEinsteinを例に計算していたが、Einsteinのデータは最近更新されているらしいです。\n",
    "# 同じプログラムでh-indexを計算しても、この前は78、3月8日には29、3月9日には19という結果になりました。\n",
    "\n",
    "authors_json = Authors().search_filter(display_name=name)\\\n",
    "            .select([\"id\",\"display_name\",\"relevance_score\",\"works_count\",\"cited_by_count\",\"summary_stats\"]).get()\n",
    "authors_df = pd.DataFrame(authors_json)\n",
    "\n",
    "# summary_statsに含まれた2yr_mean_citedness, h_index, i10_indexを分けます\n",
    "authors_df = authors_df.join(pd.DataFrame(authors_df['summary_stats'].tolist()))\n",
    "authors_df = authors_df.drop(columns=['summary_stats'])\n",
    "\n",
    "display(authors_df.head())"
   ]
  },
  {
   "cell_type": "code",
   "execution_count": 9,
   "metadata": {},
   "outputs": [
    {
     "name": "stdout",
     "output_type": "stream",
     "text": [
      "Last known institutions of the select author:\n",
      "['University of Cambridge']\n",
      "\n",
      "Concepts of the select author:\n",
      "['Physics',\n",
      " 'Quantum mechanics',\n",
      " 'Mathematics',\n",
      " 'Astronomy',\n",
      " 'Theoretical physics',\n",
      " 'Astrophysics',\n",
      " 'Computer science',\n",
      " 'Mathematical physics',\n",
      " 'Classical mechanics',\n",
      " 'Geometry',\n",
      " 'Universe',\n",
      " 'Philosophy',\n",
      " 'Mathematical analysis',\n",
      " 'Quantum',\n",
      " 'Engineering',\n",
      " 'Thermodynamics']\n"
     ]
    }
   ],
   "source": [
    "# 検索結果から著者を指定します\n",
    "i = 0\n",
    "author_id = authors_df.loc[i,\"id\"]\n",
    "author_name = authors_df.loc[i,\"display_name\"]\n",
    "\n",
    "# 著者データを確認します\n",
    "data = Authors()[author_id]\n",
    "# 著者の最新の所属機関\n",
    "institutions = [entry['display_name'] for entry in data['last_known_institutions']]\n",
    "print('Last known institutions of the select author:')\n",
    "pprint(institutions)\n",
    "# 著者が発表した論文のテーマ\n",
    "concepts = [entry['display_name'] for entry in data['x_concepts']]\n",
    "print('\\nConcepts of the select author:')\n",
    "pprint(concepts)"
   ]
  },
  {
   "cell_type": "code",
   "execution_count": 10,
   "metadata": {},
   "outputs": [
    {
     "name": "stdout",
     "output_type": "stream",
     "text": [
      "Fetching 414 objects. it may takes 0.03 to 0.1 minutes\n"
     ]
    },
    {
     "name": "stderr",
     "output_type": "stream",
     "text": [
      "4it [00:04,  1.08s/it]\n"
     ]
    }
   ],
   "source": [
    "# 著者の論文データを抽出します\n",
    "pyalexObj = Works().filter(author={\"id\":author_id},is_paratext=False)\\\n",
    "                .select([\"cited_by_count\"])\\\n",
    "                .sort(cited_by_count=\"desc\")\n",
    "citations_json = util.getAll(pyalexObj)\n",
    "citations = np.array([entry['cited_by_count'] for entry in citations_json])"
   ]
  },
  {
   "cell_type": "code",
   "execution_count": 11,
   "metadata": {},
   "outputs": [
    {
     "data": {
      "image/png": "[encoded data removed]",
      "text/plain": [
       "<Figure size 500x500 with 1 Axes>"
      ]
     },
     "metadata": {},
     "output_type": "display_data"
    }
   ],
   "source": [
    "# 被引用数からh-indexを算出します\n",
    "h_index = calculate_h_index(citations)\n",
    "\n",
    "# グラフを作成します\n",
    "fig, ax = plt.subplots(figsize=(5, 5))\n",
    "title = f'{author_name}:  $h$-index = {h_index}'\n",
    "plot_citations(ax, citations, h_index=h_index, title=title, logx=True, logy=True)\n",
    "plt.show()"
   ]
  },
  {
   "cell_type": "markdown",
   "metadata": {},
   "source": [
    "# 探索"
   ]
  },
  {
   "cell_type": "markdown",
   "metadata": {},
   "source": [
    "## 3．重回帰分析によるh-index予測"
   ]
  },
  {
   "cell_type": "markdown",
   "metadata": {},
   "source": [
    "2016年時点のデータに基づいて2024年のh-indexを予測します。\n",
    "(若手研究者のみに絞るため、2016年のcareer_age<=7の研究者を選択します)\n",
    "- X：\n",
    "    - h_index_2016: 2016年時点のh-index\n",
    "    - affiliation_h_index: institution.summary_stats.h_index\n",
    "    - gender：男性、女性\n",
    "    - race：USでの人種。白人、アフリカ系、アジア系、ヒスパニック系\n",
    "- Y:\n",
    "    - h_index: 'author.summary_stats.h_index'"
   ]
  },
  {
   "cell_type": "code",
   "execution_count": 12,
   "metadata": {},
   "outputs": [],
   "source": [
    "# [from_year, to_year]の間に発表された論文が[from_year, to_year]の間に獲得した被引用数\n",
    "def get_citations(works_json, from_year, to_year):\n",
    "        n = 0\n",
    "        citations = []\n",
    "        for work in works_json:\n",
    "            if (from_year <= work['publication_year'] <= to_year):\n",
    "                n += 1\n",
    "                cited_by_count_after = sum(entry['cited_by_count'] for entry in work['counts_by_year'] \n",
    "                              if entry['year'] > to_year)\n",
    "                citations.append(work['cited_by_count'] - cited_by_count_after)\n",
    "            else:\n",
    "                continue\n",
    "        return citations"
   ]
  },
  {
   "cell_type": "markdown",
   "metadata": {},
   "source": [
    "### 学習データの準備"
   ]
  },
  {
   "cell_type": "markdown",
   "metadata": {},
   "source": [
    "#### Get data samples"
   ]
  },
  {
   "cell_type": "markdown",
   "metadata": {},
   "source": [
    "APIを利用しデータを獲得するには時間がかかるため、30人の小規模サンプルでデータ処理のプロセスを示します。その後、事前に処理されたデータを読み込んで分析を行います。"
   ]
  },
  {
   "cell_type": "code",
   "execution_count": 13,
   "metadata": {},
   "outputs": [
    {
     "name": "stdout",
     "output_type": "stream",
     "text": [
      "Number of sampled authors: 30\n"
     ]
    }
   ],
   "source": [
    "# './supplementary/career_age.pickle'から著者のサンプルを獲得します\n",
    "career_age_df=pd.read_pickle('./supplementary/career_age.pickle')\n",
    "career_age_df=career_age_df[(career_age_df['year']>=2009)&(career_age_df['year']<=2016)]\\\n",
    "    .reset_index(drop=True)\n",
    "career_age_df=career_age_df.head(30)\n",
    "print(f'Number of sampled authors: {career_age_df.shape[0]}')"
   ]
  },
  {
   "cell_type": "code",
   "execution_count": 14,
   "metadata": {},
   "outputs": [
    {
     "name": "stdout",
     "output_type": "stream",
     "text": [
      "0\n",
      "10\n",
      "20\n"
     ]
    }
   ],
   "source": [
    "# Get authors info by pyalex\n",
    "authors_json = []\n",
    "for index, entry in career_age_df.iterrows():\n",
    "    if (index%10)==0:\n",
    "        print(index)\n",
    "    authors_json.append(Authors()[entry['id']])\n",
    "authors_df = pd.DataFrame(authors_json)"
   ]
  },
  {
   "cell_type": "code",
   "execution_count": 15,
   "metadata": {},
   "outputs": [],
   "source": [
    "# Get h_index\n",
    "authors_df['h_index'] = authors_df['summary_stats'].apply(lambda x:x['h_index'])\n",
    "\n",
    "# Clean up authors_df\n",
    "authors_df = authors_df[['id','display_name','affiliations','counts_by_year','works_count','cited_by_count','h_index']]\n",
    "# affiliation_h_indexが獲得できないデータを排除するため、affiliationsがあるデータを選択します。\n",
    "authors_df = authors_df[authors_df['affiliations'].apply(len)>0]\n",
    "\n",
    "# Get career_age\n",
    "authors_df = pd.merge(authors_df, career_age_df, on='id', how='inner')\n",
    "authors_df['career_age']=authors_df['year'].apply(lambda x:2024-x)"
   ]
  },
  {
   "cell_type": "code",
   "execution_count": 16,
   "metadata": {},
   "outputs": [
    {
     "name": "stdout",
     "output_type": "stream",
     "text": [
      "Number of authors with nonblank affiliations: 10\n"
     ]
    },
    {
     "data": {
      "text/html": [
       "<div>\n",
       "<style scoped>\n",
       "    .dataframe tbody tr th:only-of-type {\n",
       "        vertical-align: middle;\n",
       "    }\n",
       "\n",
       "    .dataframe tbody tr th {\n",
       "        vertical-align: top;\n",
       "    }\n",
       "\n",
       "    .dataframe thead th {\n",
       "        text-align: right;\n",
       "    }\n",
       "</style>\n",
       "<table border=\"1\" class=\"dataframe\">\n",
       "  <thead>\n",
       "    <tr style=\"text-align: right;\">\n",
       "      <th></th>\n",
       "      <th>id</th>\n",
       "      <th>display_name</th>\n",
       "      <th>affiliations</th>\n",
       "      <th>counts_by_year</th>\n",
       "      <th>works_count</th>\n",
       "      <th>cited_by_count</th>\n",
       "      <th>h_index</th>\n",
       "      <th>year</th>\n",
       "      <th>career_age</th>\n",
       "    </tr>\n",
       "  </thead>\n",
       "  <tbody>\n",
       "    <tr>\n",
       "      <th>0</th>\n",
       "      <td>https://openalex.org/A5074785474</td>\n",
       "      <td>Etienne Lefèvre</td>\n",
       "      <td>[{'institution': {'id': 'https://openalex.org/...</td>\n",
       "      <td>[{'year': 2023, 'works_count': 0, 'cited_by_co...</td>\n",
       "      <td>1</td>\n",
       "      <td>11</td>\n",
       "      <td>1</td>\n",
       "      <td>2016</td>\n",
       "      <td>8</td>\n",
       "    </tr>\n",
       "    <tr>\n",
       "      <th>1</th>\n",
       "      <td>https://openalex.org/A5073704210</td>\n",
       "      <td>S. Khomiakov</td>\n",
       "      <td>[{'institution': {'id': 'https://openalex.org/...</td>\n",
       "      <td>[{'year': 2024, 'works_count': 0, 'cited_by_co...</td>\n",
       "      <td>10</td>\n",
       "      <td>145</td>\n",
       "      <td>6</td>\n",
       "      <td>2012</td>\n",
       "      <td>12</td>\n",
       "    </tr>\n",
       "    <tr>\n",
       "      <th>2</th>\n",
       "      <td>https://openalex.org/A5019666378</td>\n",
       "      <td>Michael Willochell</td>\n",
       "      <td>[{'institution': {'id': 'https://openalex.org/...</td>\n",
       "      <td>[{'year': 2024, 'works_count': 0, 'cited_by_co...</td>\n",
       "      <td>3</td>\n",
       "      <td>159</td>\n",
       "      <td>3</td>\n",
       "      <td>2010</td>\n",
       "      <td>14</td>\n",
       "    </tr>\n",
       "    <tr>\n",
       "      <th>3</th>\n",
       "      <td>https://openalex.org/A5001317537</td>\n",
       "      <td>Mamadou Diop</td>\n",
       "      <td>[{'institution': {'id': 'https://openalex.org/...</td>\n",
       "      <td>[{'year': 2023, 'works_count': 0, 'cited_by_co...</td>\n",
       "      <td>9</td>\n",
       "      <td>20</td>\n",
       "      <td>3</td>\n",
       "      <td>2014</td>\n",
       "      <td>10</td>\n",
       "    </tr>\n",
       "    <tr>\n",
       "      <th>4</th>\n",
       "      <td>https://openalex.org/A5065962192</td>\n",
       "      <td>Paul Nye</td>\n",
       "      <td>[{'institution': {'id': 'https://openalex.org/...</td>\n",
       "      <td>[{'year': 2021, 'works_count': 0, 'cited_by_co...</td>\n",
       "      <td>1</td>\n",
       "      <td>14</td>\n",
       "      <td>1</td>\n",
       "      <td>2016</td>\n",
       "      <td>8</td>\n",
       "    </tr>\n",
       "  </tbody>\n",
       "</table>\n",
       "</div>"
      ],
      "text/plain": [
       "                                 id        display_name  \\\n",
       "0  https://openalex.org/A5074785474     Etienne Lefèvre   \n",
       "1  https://openalex.org/A5073704210        S. Khomiakov   \n",
       "2  https://openalex.org/A5019666378  Michael Willochell   \n",
       "3  https://openalex.org/A5001317537        Mamadou Diop   \n",
       "4  https://openalex.org/A5065962192            Paul Nye   \n",
       "\n",
       "                                        affiliations  \\\n",
       "0  [{'institution': {'id': 'https://openalex.org/...   \n",
       "1  [{'institution': {'id': 'https://openalex.org/...   \n",
       "2  [{'institution': {'id': 'https://openalex.org/...   \n",
       "3  [{'institution': {'id': 'https://openalex.org/...   \n",
       "4  [{'institution': {'id': 'https://openalex.org/...   \n",
       "\n",
       "                                      counts_by_year  works_count  \\\n",
       "0  [{'year': 2023, 'works_count': 0, 'cited_by_co...            1   \n",
       "1  [{'year': 2024, 'works_count': 0, 'cited_by_co...           10   \n",
       "2  [{'year': 2024, 'works_count': 0, 'cited_by_co...            3   \n",
       "3  [{'year': 2023, 'works_count': 0, 'cited_by_co...            9   \n",
       "4  [{'year': 2021, 'works_count': 0, 'cited_by_co...            1   \n",
       "\n",
       "   cited_by_count  h_index  year  career_age  \n",
       "0              11        1  2016           8  \n",
       "1             145        6  2012          12  \n",
       "2             159        3  2010          14  \n",
       "3              20        3  2014          10  \n",
       "4              14        1  2016           8  "
      ]
     },
     "execution_count": 16,
     "metadata": {},
     "output_type": "execute_result"
    }
   ],
   "source": [
    "print(f'Number of authors with nonblank affiliations: {authors_df.shape[0]}')\n",
    "authors_df.head()"
   ]
  },
  {
   "cell_type": "markdown",
   "metadata": {},
   "source": [
    "#### Get gender and ethnicity from the Namsor API."
   ]
  },
  {
   "cell_type": "markdown",
   "metadata": {},
   "source": [
    "Namsorでは、名前からジェンダー、人種・民族などを推測することができます。\n",
    "https://namsor.app/ からログインしてAPI keyを獲得できます。"
   ]
  },
  {
   "cell_type": "code",
   "execution_count": 17,
   "metadata": {},
   "outputs": [],
   "source": [
    "import requests\n",
    "import json\n",
    "\n",
    "# API callを設定します。\n",
    "# 推定したい名前をリストにして、APIの入力とします。\n",
    "name_list=[]\n",
    "for index, entry in authors_df.iterrows():\n",
    "    name_list.append({\"name\": entry['display_name']})\n",
    "payload = {\"personalNames\": name_list}\n",
    "# \"X-API-KEY\"で自分のNamsor API keyを入れ替えます。\n",
    "headers = {\n",
    "    \"X-API-KEY\": \"734e6b235405d5e1d7f112a76263bdf7\", # YOUR_API_KEY\n",
    "    \"Accept\": \"application/json\",\n",
    "    \"Content-Type\": \"application/json\"\n",
    "}"
   ]
  },
  {
   "cell_type": "code",
   "execution_count": 18,
   "metadata": {},
   "outputs": [],
   "source": [
    "# Get gender and race data from 'display_name' by Namsor API\n",
    "gender_url = \"https://v2.namsor.com/NamSorAPIv2/api2/json/genderFullBatch\"\n",
    "gender_response = requests.request(\"POST\", gender_url, json=payload, headers=headers)\n",
    "\n",
    "race_url = \"https://v2.namsor.com/NamSorAPIv2/api2/json/usRaceEthnicityFullBatch\"\n",
    "race_response = requests.request(\"POST\", race_url, json=payload, headers=headers)"
   ]
  },
  {
   "cell_type": "code",
   "execution_count": 19,
   "metadata": {},
   "outputs": [
    {
     "name": "stdout",
     "output_type": "stream",
     "text": [
      "{'Crystal Ng': 'female',\n",
      " 'Etienne Lefèvre': 'male',\n",
      " 'H.-D. Schwöbel': 'male',\n",
      " 'Mamadou Diop': 'male',\n",
      " 'Marat Kulakhmetov': 'male',\n",
      " 'Meng Lu': 'male',\n",
      " 'Michael Willochell': 'male',\n",
      " 'Paul Nye': 'male',\n",
      " 'S. Khomiakov': 'male',\n",
      " 'Yehoshua Lehman': 'male'}\n"
     ]
    }
   ],
   "source": [
    "# Get name-gender dictionary from response\n",
    "gender_json=json.loads(gender_response.text)\n",
    "personal_names = gender_json['personalNames']\n",
    "gender_dict = {}\n",
    "for entry in personal_names:\n",
    "    name = entry['name']\n",
    "    gender = str(entry['likelyGender'])\n",
    "    gender_dict[name] = gender\n",
    "\n",
    "# Show first 10 rows in gender_dict\n",
    "pprint({k: gender_dict[k] for k in list(gender_dict)[:10]})"
   ]
  },
  {
   "cell_type": "code",
   "execution_count": 20,
   "metadata": {},
   "outputs": [
    {
     "name": "stdout",
     "output_type": "stream",
     "text": [
      "{'Crystal Ng': 'A',\n",
      " 'Etienne Lefèvre': 'B_NL',\n",
      " 'H.-D. Schwöbel': 'A',\n",
      " 'Mamadou Diop': 'B_NL',\n",
      " 'Marat Kulakhmetov': 'W_NL',\n",
      " 'Meng Lu': 'A',\n",
      " 'Michael Willochell': 'B_NL',\n",
      " 'Paul Nye': 'W_NL',\n",
      " 'S. Khomiakov': 'W_NL',\n",
      " 'Yehoshua Lehman': 'W_NL'}\n"
     ]
    }
   ],
   "source": [
    "# Get name-race dictionary from response\n",
    "race_json=json.loads(race_response.text)\n",
    "personal_names = race_json['personalNames']\n",
    "race_dict = {}\n",
    "for entry in personal_names:\n",
    "    name = entry['name']\n",
    "    race = str(entry['raceEthnicity'])\n",
    "    race_dict[name] = race\n",
    "\n",
    "# Show first 10 rows in race_dict\n",
    "pprint({k: race_dict[k] for k in list(race_dict)[:10]})\n",
    "\n",
    "# Race ethnicities, based on the US Census Taxonomy:\n",
    "# W_NL: white, non latino ;\n",
    "# HL: hispano latino ;\n",
    "# A: asian, non latino ;\n",
    "# B_NL: black, non latino ."
   ]
  },
  {
   "cell_type": "code",
   "execution_count": 21,
   "metadata": {},
   "outputs": [],
   "source": [
    "# Assign gender and ethnicity to authors\n",
    "authors_df['gender'] = authors_df['display_name'].apply(lambda x: gender_dict[x])\n",
    "authors_df['race'] = authors_df['display_name'].apply(lambda x: race_dict[x])"
   ]
  },
  {
   "cell_type": "markdown",
   "metadata": {},
   "source": [
    "#### Get other variables"
   ]
  },
  {
   "cell_type": "code",
   "execution_count": 22,
   "metadata": {},
   "outputs": [
    {
     "name": "stdout",
     "output_type": "stream",
     "text": [
      "0\n"
     ]
    }
   ],
   "source": [
    "authors_df[['h_index_2016','affiliation_h_index']] = -1\n",
    "authors_df[['cited_first_5yrs','works_first_5yrs','h_index_first_5yrs']] = -1\n",
    "authors_df['cited_per_work_first_5yrs'] = -1.0\n",
    "authors_df[['cited_first_10yrs','cited_6to10yrs']] = -1\n",
    "predictor_year = 2016\n",
    "\n",
    "for i, author in authors_df.iterrows():\n",
    "    if (i)%10==0: print(i)\n",
    "\n",
    "    pyalexObj = Works().filter(author={\"id\":author[\"id\"]},is_paratext=False)\\\n",
    "                       .select(['cited_by_count','counts_by_year','publication_year'])\\\n",
    "                       .sort(publication_year=\"asc\")\n",
    "    works_json = util.getAll(pyalexObj, verbous=False)\n",
    "    if works_json==[]:\n",
    "        continue\n",
    "\n",
    "    #-------------for Section 3--------------\n",
    "    # Calculate h_index_2016\n",
    "    citations = get_citations(works_json, author['year'], predictor_year)\n",
    "    authors_df.loc[i,'h_index_2016']=calculate_h_index(citations)\n",
    "    \n",
    "    # Calculate affiliation_h_index\n",
    "    affiliations = author[\"affiliations\"]\n",
    "    year = predictor_year\n",
    "    found = False\n",
    "    authors_df.loc[i,'affiliation_h_index'] = -1\n",
    "    while (not found) and (year >= predictor_year-7):\n",
    "        for af in affiliations:\n",
    "            if year in af['years']:\n",
    "                affiliation_h_index = Institutions()[af['institution']['id']]['summary_stats']['h_index']\n",
    "                if authors_df.loc[i,'affiliation_h_index'] < affiliation_h_index:\n",
    "                    authors_df.loc[i,'affiliation_h_index'] = affiliation_h_index\n",
    "                found = True\n",
    "        year -= 1\n",
    "    \n",
    "    #-------------for Section 4--------------\n",
    "    # Calculate indices in the first 5 (and 10) years of the career\n",
    "    if 2011 <= author['year'] <= 2014:\n",
    "        citations_first_5yrs = get_citations(works_json, author['year'], author['year']+4)\n",
    "        authors_df.loc[i,'works_first_5yrs']=len(citations_first_5yrs) \n",
    "        authors_df.loc[i,'cited_first_5yrs']=sum(citations_first_5yrs) \n",
    "        authors_df.loc[i,'cited_per_work_first_5yrs']=authors_df.loc[i,'cited_first_5yrs']/authors_df.loc[i,'works_first_5yrs']\n",
    "        authors_df.loc[i,'h_index_first_5yrs']=calculate_h_index(citations_first_5yrs)\n",
    "        # Calculate indices in the first 10 years of the career\n",
    "        authors_df.loc[i,'cited_first_10yrs']=sum(get_citations(works_json, author['year'], author['year']+9)) \n",
    "        # Calculate indices in the 6th to 10th years of the career\n",
    "        authors_df.loc[i,'cited_6to10yrs']=sum(get_citations(works_json, author['year']+5, author['year']+9)) "
   ]
  },
  {
   "cell_type": "code",
   "execution_count": 23,
   "metadata": {},
   "outputs": [
    {
     "data": {
      "text/html": [
       "<div>\n",
       "<style scoped>\n",
       "    .dataframe tbody tr th:only-of-type {\n",
       "        vertical-align: middle;\n",
       "    }\n",
       "\n",
       "    .dataframe tbody tr th {\n",
       "        vertical-align: top;\n",
       "    }\n",
       "\n",
       "    .dataframe thead th {\n",
       "        text-align: right;\n",
       "    }\n",
       "</style>\n",
       "<table border=\"1\" class=\"dataframe\">\n",
       "  <thead>\n",
       "    <tr style=\"text-align: right;\">\n",
       "      <th></th>\n",
       "      <th>id</th>\n",
       "      <th>display_name</th>\n",
       "      <th>affiliations</th>\n",
       "      <th>counts_by_year</th>\n",
       "      <th>works_count</th>\n",
       "      <th>cited_by_count</th>\n",
       "      <th>h_index</th>\n",
       "      <th>year</th>\n",
       "      <th>career_age</th>\n",
       "      <th>gender</th>\n",
       "      <th>race</th>\n",
       "      <th>h_index_2016</th>\n",
       "      <th>affiliation_h_index</th>\n",
       "      <th>cited_first_5yrs</th>\n",
       "      <th>works_first_5yrs</th>\n",
       "      <th>h_index_first_5yrs</th>\n",
       "      <th>cited_per_work_first_5yrs</th>\n",
       "      <th>cited_first_10yrs</th>\n",
       "      <th>cited_6to10yrs</th>\n",
       "    </tr>\n",
       "  </thead>\n",
       "  <tbody>\n",
       "    <tr>\n",
       "      <th>0</th>\n",
       "      <td>https://openalex.org/A5074785474</td>\n",
       "      <td>Etienne Lefèvre</td>\n",
       "      <td>[{'institution': {'id': 'https://openalex.org/...</td>\n",
       "      <td>[{'year': 2023, 'works_count': 0, 'cited_by_co...</td>\n",
       "      <td>1</td>\n",
       "      <td>11</td>\n",
       "      <td>1</td>\n",
       "      <td>2016</td>\n",
       "      <td>8</td>\n",
       "      <td>male</td>\n",
       "      <td>B_NL</td>\n",
       "      <td>0</td>\n",
       "      <td>327</td>\n",
       "      <td>-1</td>\n",
       "      <td>-1</td>\n",
       "      <td>-1</td>\n",
       "      <td>-1.00</td>\n",
       "      <td>-1</td>\n",
       "      <td>-1</td>\n",
       "    </tr>\n",
       "    <tr>\n",
       "      <th>1</th>\n",
       "      <td>https://openalex.org/A5073704210</td>\n",
       "      <td>S. Khomiakov</td>\n",
       "      <td>[{'institution': {'id': 'https://openalex.org/...</td>\n",
       "      <td>[{'year': 2024, 'works_count': 0, 'cited_by_co...</td>\n",
       "      <td>10</td>\n",
       "      <td>145</td>\n",
       "      <td>6</td>\n",
       "      <td>2012</td>\n",
       "      <td>12</td>\n",
       "      <td>male</td>\n",
       "      <td>W_NL</td>\n",
       "      <td>5</td>\n",
       "      <td>22</td>\n",
       "      <td>54</td>\n",
       "      <td>8</td>\n",
       "      <td>5</td>\n",
       "      <td>6.75</td>\n",
       "      <td>125</td>\n",
       "      <td>4</td>\n",
       "    </tr>\n",
       "    <tr>\n",
       "      <th>2</th>\n",
       "      <td>https://openalex.org/A5019666378</td>\n",
       "      <td>Michael Willochell</td>\n",
       "      <td>[{'institution': {'id': 'https://openalex.org/...</td>\n",
       "      <td>[{'year': 2024, 'works_count': 0, 'cited_by_co...</td>\n",
       "      <td>3</td>\n",
       "      <td>159</td>\n",
       "      <td>3</td>\n",
       "      <td>2010</td>\n",
       "      <td>14</td>\n",
       "      <td>male</td>\n",
       "      <td>B_NL</td>\n",
       "      <td>1</td>\n",
       "      <td>777</td>\n",
       "      <td>-1</td>\n",
       "      <td>-1</td>\n",
       "      <td>-1</td>\n",
       "      <td>-1.00</td>\n",
       "      <td>-1</td>\n",
       "      <td>-1</td>\n",
       "    </tr>\n",
       "    <tr>\n",
       "      <th>3</th>\n",
       "      <td>https://openalex.org/A5001317537</td>\n",
       "      <td>Mamadou Diop</td>\n",
       "      <td>[{'institution': {'id': 'https://openalex.org/...</td>\n",
       "      <td>[{'year': 2023, 'works_count': 0, 'cited_by_co...</td>\n",
       "      <td>9</td>\n",
       "      <td>20</td>\n",
       "      <td>3</td>\n",
       "      <td>2014</td>\n",
       "      <td>10</td>\n",
       "      <td>male</td>\n",
       "      <td>B_NL</td>\n",
       "      <td>1</td>\n",
       "      <td>-1</td>\n",
       "      <td>5</td>\n",
       "      <td>5</td>\n",
       "      <td>1</td>\n",
       "      <td>1.00</td>\n",
       "      <td>20</td>\n",
       "      <td>10</td>\n",
       "    </tr>\n",
       "    <tr>\n",
       "      <th>4</th>\n",
       "      <td>https://openalex.org/A5065962192</td>\n",
       "      <td>Paul Nye</td>\n",
       "      <td>[{'institution': {'id': 'https://openalex.org/...</td>\n",
       "      <td>[{'year': 2021, 'works_count': 0, 'cited_by_co...</td>\n",
       "      <td>1</td>\n",
       "      <td>14</td>\n",
       "      <td>1</td>\n",
       "      <td>2016</td>\n",
       "      <td>8</td>\n",
       "      <td>male</td>\n",
       "      <td>W_NL</td>\n",
       "      <td>1</td>\n",
       "      <td>616</td>\n",
       "      <td>-1</td>\n",
       "      <td>-1</td>\n",
       "      <td>-1</td>\n",
       "      <td>-1.00</td>\n",
       "      <td>-1</td>\n",
       "      <td>-1</td>\n",
       "    </tr>\n",
       "    <tr>\n",
       "      <th>5</th>\n",
       "      <td>https://openalex.org/A5075133075</td>\n",
       "      <td>Crystal Ng</td>\n",
       "      <td>[{'institution': {'id': 'https://openalex.org/...</td>\n",
       "      <td>[{'year': 2024, 'works_count': 0, 'cited_by_co...</td>\n",
       "      <td>5</td>\n",
       "      <td>41</td>\n",
       "      <td>3</td>\n",
       "      <td>2011</td>\n",
       "      <td>13</td>\n",
       "      <td>female</td>\n",
       "      <td>A</td>\n",
       "      <td>1</td>\n",
       "      <td>30</td>\n",
       "      <td>2</td>\n",
       "      <td>1</td>\n",
       "      <td>1</td>\n",
       "      <td>2.00</td>\n",
       "      <td>15</td>\n",
       "      <td>9</td>\n",
       "    </tr>\n",
       "    <tr>\n",
       "      <th>6</th>\n",
       "      <td>https://openalex.org/A5046936944</td>\n",
       "      <td>H.-D. Schwöbel</td>\n",
       "      <td>[{'institution': {'id': 'https://openalex.org/...</td>\n",
       "      <td>[]</td>\n",
       "      <td>1</td>\n",
       "      <td>0</td>\n",
       "      <td>0</td>\n",
       "      <td>2009</td>\n",
       "      <td>15</td>\n",
       "      <td>male</td>\n",
       "      <td>A</td>\n",
       "      <td>0</td>\n",
       "      <td>64</td>\n",
       "      <td>-1</td>\n",
       "      <td>-1</td>\n",
       "      <td>-1</td>\n",
       "      <td>-1.00</td>\n",
       "      <td>-1</td>\n",
       "      <td>-1</td>\n",
       "    </tr>\n",
       "    <tr>\n",
       "      <th>7</th>\n",
       "      <td>https://openalex.org/A5085437310</td>\n",
       "      <td>Yehoshua Lehman</td>\n",
       "      <td>[{'institution': {'id': 'https://openalex.org/...</td>\n",
       "      <td>[{'year': 2023, 'works_count': 0, 'cited_by_co...</td>\n",
       "      <td>2</td>\n",
       "      <td>6</td>\n",
       "      <td>1</td>\n",
       "      <td>2016</td>\n",
       "      <td>8</td>\n",
       "      <td>male</td>\n",
       "      <td>W_NL</td>\n",
       "      <td>0</td>\n",
       "      <td>-1</td>\n",
       "      <td>-1</td>\n",
       "      <td>-1</td>\n",
       "      <td>-1</td>\n",
       "      <td>-1.00</td>\n",
       "      <td>-1</td>\n",
       "      <td>-1</td>\n",
       "    </tr>\n",
       "    <tr>\n",
       "      <th>8</th>\n",
       "      <td>https://openalex.org/A5002564111</td>\n",
       "      <td>Meng Lu</td>\n",
       "      <td>[{'institution': {'id': 'https://openalex.org/...</td>\n",
       "      <td>[{'year': 2024, 'works_count': 0, 'cited_by_co...</td>\n",
       "      <td>9</td>\n",
       "      <td>22</td>\n",
       "      <td>1</td>\n",
       "      <td>2011</td>\n",
       "      <td>13</td>\n",
       "      <td>male</td>\n",
       "      <td>A</td>\n",
       "      <td>1</td>\n",
       "      <td>199</td>\n",
       "      <td>0</td>\n",
       "      <td>3</td>\n",
       "      <td>0</td>\n",
       "      <td>0.00</td>\n",
       "      <td>12</td>\n",
       "      <td>0</td>\n",
       "    </tr>\n",
       "    <tr>\n",
       "      <th>9</th>\n",
       "      <td>https://openalex.org/A5015392933</td>\n",
       "      <td>Marat Kulakhmetov</td>\n",
       "      <td>[{'institution': {'id': 'https://openalex.org/...</td>\n",
       "      <td>[{'year': 2024, 'works_count': 0, 'cited_by_co...</td>\n",
       "      <td>29</td>\n",
       "      <td>248</td>\n",
       "      <td>5</td>\n",
       "      <td>2010</td>\n",
       "      <td>14</td>\n",
       "      <td>male</td>\n",
       "      <td>W_NL</td>\n",
       "      <td>3</td>\n",
       "      <td>567</td>\n",
       "      <td>-1</td>\n",
       "      <td>-1</td>\n",
       "      <td>-1</td>\n",
       "      <td>-1.00</td>\n",
       "      <td>-1</td>\n",
       "      <td>-1</td>\n",
       "    </tr>\n",
       "  </tbody>\n",
       "</table>\n",
       "</div>"
      ],
      "text/plain": [
       "                                 id        display_name  \\\n",
       "0  https://openalex.org/A5074785474     Etienne Lefèvre   \n",
       "1  https://openalex.org/A5073704210        S. Khomiakov   \n",
       "2  https://openalex.org/A5019666378  Michael Willochell   \n",
       "3  https://openalex.org/A5001317537        Mamadou Diop   \n",
       "4  https://openalex.org/A5065962192            Paul Nye   \n",
       "5  https://openalex.org/A5075133075          Crystal Ng   \n",
       "6  https://openalex.org/A5046936944      H.-D. Schwöbel   \n",
       "7  https://openalex.org/A5085437310     Yehoshua Lehman   \n",
       "8  https://openalex.org/A5002564111             Meng Lu   \n",
       "9  https://openalex.org/A5015392933   Marat Kulakhmetov   \n",
       "\n",
       "                                        affiliations  \\\n",
       "0  [{'institution': {'id': 'https://openalex.org/...   \n",
       "1  [{'institution': {'id': 'https://openalex.org/...   \n",
       "2  [{'institution': {'id': 'https://openalex.org/...   \n",
       "3  [{'institution': {'id': 'https://openalex.org/...   \n",
       "4  [{'institution': {'id': 'https://openalex.org/...   \n",
       "5  [{'institution': {'id': 'https://openalex.org/...   \n",
       "6  [{'institution': {'id': 'https://openalex.org/...   \n",
       "7  [{'institution': {'id': 'https://openalex.org/...   \n",
       "8  [{'institution': {'id': 'https://openalex.org/...   \n",
       "9  [{'institution': {'id': 'https://openalex.org/...   \n",
       "\n",
       "                                      counts_by_year  works_count  \\\n",
       "0  [{'year': 2023, 'works_count': 0, 'cited_by_co...            1   \n",
       "1  [{'year': 2024, 'works_count': 0, 'cited_by_co...           10   \n",
       "2  [{'year': 2024, 'works_count': 0, 'cited_by_co...            3   \n",
       "3  [{'year': 2023, 'works_count': 0, 'cited_by_co...            9   \n",
       "4  [{'year': 2021, 'works_count': 0, 'cited_by_co...            1   \n",
       "5  [{'year': 2024, 'works_count': 0, 'cited_by_co...            5   \n",
       "6                                                 []            1   \n",
       "7  [{'year': 2023, 'works_count': 0, 'cited_by_co...            2   \n",
       "8  [{'year': 2024, 'works_count': 0, 'cited_by_co...            9   \n",
       "9  [{'year': 2024, 'works_count': 0, 'cited_by_co...           29   \n",
       "\n",
       "   cited_by_count  h_index  year  career_age  gender  race  h_index_2016  \\\n",
       "0              11        1  2016           8    male  B_NL             0   \n",
       "1             145        6  2012          12    male  W_NL             5   \n",
       "2             159        3  2010          14    male  B_NL             1   \n",
       "3              20        3  2014          10    male  B_NL             1   \n",
       "4              14        1  2016           8    male  W_NL             1   \n",
       "5              41        3  2011          13  female     A             1   \n",
       "6               0        0  2009          15    male     A             0   \n",
       "7               6        1  2016           8    male  W_NL             0   \n",
       "8              22        1  2011          13    male     A             1   \n",
       "9             248        5  2010          14    male  W_NL             3   \n",
       "\n",
       "   affiliation_h_index  cited_first_5yrs  works_first_5yrs  \\\n",
       "0                  327                -1                -1   \n",
       "1                   22                54                 8   \n",
       "2                  777                -1                -1   \n",
       "3                   -1                 5                 5   \n",
       "4                  616                -1                -1   \n",
       "5                   30                 2                 1   \n",
       "6                   64                -1                -1   \n",
       "7                   -1                -1                -1   \n",
       "8                  199                 0                 3   \n",
       "9                  567                -1                -1   \n",
       "\n",
       "   h_index_first_5yrs  cited_per_work_first_5yrs  cited_first_10yrs  \\\n",
       "0                  -1                      -1.00                 -1   \n",
       "1                   5                       6.75                125   \n",
       "2                  -1                      -1.00                 -1   \n",
       "3                   1                       1.00                 20   \n",
       "4                  -1                      -1.00                 -1   \n",
       "5                   1                       2.00                 15   \n",
       "6                  -1                      -1.00                 -1   \n",
       "7                  -1                      -1.00                 -1   \n",
       "8                   0                       0.00                 12   \n",
       "9                  -1                      -1.00                 -1   \n",
       "\n",
       "   cited_6to10yrs  \n",
       "0              -1  \n",
       "1               4  \n",
       "2              -1  \n",
       "3              10  \n",
       "4              -1  \n",
       "5               9  \n",
       "6              -1  \n",
       "7              -1  \n",
       "8               0  \n",
       "9              -1  "
      ]
     },
     "execution_count": 23,
     "metadata": {},
     "output_type": "execute_result"
    }
   ],
   "source": [
    "authors_df"
   ]
  },
  {
   "cell_type": "markdown",
   "metadata": {},
   "source": [
    "#### Get pre-processed data from supplementary"
   ]
  },
  {
   "cell_type": "markdown",
   "metadata": {},
   "source": [
    "以上は小規模のサンプルでデータの獲得・処理のプロセスを示しました。これからは、career_age.pickleから獲得した、2016年時点のcareer_age<=7のすべての著者データを以上のようなプロセスで処理したものを使って分析を行います。"
   ]
  },
  {
   "cell_type": "code",
   "execution_count": 24,
   "metadata": {},
   "outputs": [],
   "source": [
    "authors_df=pd.read_pickle('./supplementary/authors_h_index.pickle')"
   ]
  },
  {
   "cell_type": "markdown",
   "metadata": {},
   "source": [
    "#### Plot the distributions"
   ]
  },
  {
   "cell_type": "code",
   "execution_count": 25,
   "metadata": {},
   "outputs": [
    {
     "data": {
      "image/png": "[encoded data removed]",
      "text/plain": [
       "<Figure size 1200x600 with 6 Axes>"
      ]
     },
     "metadata": {},
     "output_type": "display_data"
    }
   ],
   "source": [
    "columns = ['h_index_2016','affiliation_h_index','h_index']\n",
    "fig, axs = plt.subplots(2,3,figsize=(12,6))\n",
    "\n",
    "# Plot distribution of frequency on 'h_index_2016','affiliation_h_index','h_index'\n",
    "for i, col in enumerate(columns):\n",
    "    ax = axs[0,i]\n",
    "    num_bins = 10\n",
    "    binned_frequencies, bin_edges = np.histogram(authors_df[col], bins=num_bins+1)\n",
    "    bin_centers = (bin_edges[1:] + bin_edges[:-1]) / 2\n",
    "    ax.scatter(bin_centers, binned_frequencies, marker='o')\n",
    "    ax.set_xlabel(col)\n",
    "    ax.set_ylabel('Frequency')\n",
    "    ax.set_xscale('log')\n",
    "    ax.set_yscale('log')\n",
    "\n",
    "# Plot distribution of 'h_index_2016','affiliation_h_index','h_index' on authors\n",
    "for i, col in enumerate(columns):\n",
    "    ax = axs[1,i]\n",
    "    ranking = authors_df[col].copy()\n",
    "    ranking = sorted(ranking)[::-1]\n",
    "    ax.scatter(np.arange(0, len(ranking)), ranking) \n",
    "    ax.set_xlabel('Authors')\n",
    "    ax.set_ylabel(col)\n",
    "\n",
    "plt.tight_layout()\n",
    "plt.show()"
   ]
  },
  {
   "cell_type": "markdown",
   "metadata": {},
   "source": [
    "### 学習と予測"
   ]
  },
  {
   "cell_type": "code",
   "execution_count": 26,
   "metadata": {},
   "outputs": [
    {
     "name": "stdout",
     "output_type": "stream",
     "text": [
      "Number of valid data for regression: 84\n"
     ]
    }
   ],
   "source": [
    "authors_valid=authors_df[authors_df['affiliation_h_index']>=0].reset_index(drop=True)\n",
    "print(f'Number of valid data for regression: {authors_valid.shape[0]}')"
   ]
  },
  {
   "cell_type": "code",
   "execution_count": 27,
   "metadata": {},
   "outputs": [],
   "source": [
    "from sklearn.model_selection import train_test_split\n",
    "from sklearn.linear_model import LinearRegression\n",
    "from sklearn.preprocessing import OneHotEncoder\n",
    "from sklearn.compose import ColumnTransformer\n",
    "from sklearn.metrics import r2_score\n",
    "\n",
    "# Define X and y of multiple regression analysis\n",
    "X = authors_valid[['h_index_2016','affiliation_h_index','race','gender']].copy()\n",
    "X['works_count']=authors_valid['works_count']\n",
    "# X['career_age']=authors_valid['career_age']\n",
    "# X['cited_by_count']=authors_valid['cited_by_count']\n",
    "# X['sqrt_cited_by_count']=np.sqrt(authors_valid['cited_by_count'])\n",
    "y = authors_valid['h_index'].copy()\n",
    "\n",
    "# Convert race and gender to one hot vectors\n",
    "column_trans = ColumnTransformer(\n",
    "    [('race_category',OneHotEncoder(),['race']),\n",
    "     ('gender_category',OneHotEncoder(),['gender'])],\n",
    "    remainder='passthrough'\n",
    ")\n",
    "X = pd.get_dummies(X, columns=['gender','race'])#, drop_first=True)\n",
    "X = X.apply(lambda x: x.map({True: 1, False: 0}) if x.dtype == bool else x)\n",
    "\n",
    "# Split data\n",
    "X_train, X_test, y_train, y_test = train_test_split(X, y, test_size=0.25, random_state=0)\n",
    "\n",
    "# Set up model\n",
    "model = LinearRegression()\n",
    "\n",
    "# Fitting\n",
    "model.fit(X_train, y_train)\n",
    "\n",
    "# Predictions on the training set\n",
    "y_train_pred = model.predict(X_train)\n",
    "\n",
    "# Predictions on the test set\n",
    "y_test_pred = model.predict(X_test)"
   ]
  },
  {
   "cell_type": "code",
   "execution_count": 28,
   "metadata": {},
   "outputs": [
    {
     "data": {
      "image/png": "[encoded data removed]",
      "text/plain": [
       "<Figure size 1200x500 with 2 Axes>"
      ]
     },
     "metadata": {},
     "output_type": "display_data"
    }
   ],
   "source": [
    "def plot_evaluation(ax, y, y_pred, *, type='', color='blue'):\n",
    "    ax.scatter(y, y_pred, color=color, label=f'Actual vs Predicted ({type})')\n",
    "    ax.plot([min(y), max(y)], [min(y), max(y)], color='red', linestyle='--')\n",
    "    ax.set_xlabel('Actual h_index')\n",
    "    ax.set_ylabel('Predicted h_index')\n",
    "    ax.set_title(f'Actual vs Predicted h_index ({type})')\n",
    "    ax.legend()\n",
    "    \n",
    "# 実測値と予測値の比較のグラフを作成する\n",
    "fig, axs = plt.subplots(1,2,figsize=(12,5))\n",
    "plot_evaluation(axs[0], y_train, y_train_pred, type='Training',color='blue')\n",
    "plot_evaluation(axs[1], y_test, y_test_pred, type='Testing',color='green')\n",
    "plt.show()"
   ]
  },
  {
   "cell_type": "code",
   "execution_count": 29,
   "metadata": {},
   "outputs": [
    {
     "name": "stdout",
     "output_type": "stream",
     "text": [
      "Training set R^2 score: 0.6386240069961935\n",
      "Testing set R^2 score: 0.4790920861254766\n"
     ]
    }
   ],
   "source": [
    "# Evaluate the model using R^2 score\n",
    "train_r2 = r2_score(y_train, y_train_pred)\n",
    "test_r2 = r2_score(y_test, y_test_pred)\n",
    "\n",
    "print(\"Training set R^2 score:\", train_r2)\n",
    "print(\"Testing set R^2 score:\", test_r2)"
   ]
  },
  {
   "cell_type": "code",
   "execution_count": 30,
   "metadata": {},
   "outputs": [
    {
     "name": "stdout",
     "output_type": "stream",
     "text": [
      "{'affiliation_h_index': '0.001',\n",
      " 'gender_female': '-0.282',\n",
      " 'gender_male': '0.282',\n",
      " 'h_index_2016': '0.885',\n",
      " 'race_A': '0.388',\n",
      " 'race_B_NL': '-1.102',\n",
      " 'race_HL': '0.361',\n",
      " 'race_W_NL': '0.353',\n",
      " 'works_count': '0.100'}\n"
     ]
    }
   ],
   "source": [
    "np.set_printoptions(suppress=True)\n",
    "coefficients = {col: f'{coef:.3f}' for col, coef in zip(X.columns, model.coef_)}\n",
    "pprint(coefficients)"
   ]
  },
  {
   "cell_type": "markdown",
   "metadata": {},
   "source": [
    "## 4. h-indexで被引用数の長期的予測"
   ]
  },
  {
   "cell_type": "raw",
   "metadata": {},
   "source": [
    "X: \n",
    "    'cited_first_5yrs': cited_by_count in the first 5 years of the career.\n",
    "    'works_first_5yrs': works_count in the first 5 years of the career.\n",
    "    'cited_per_work_first_5yrs': cited_first_5yrs / works_first_5yrs.\n",
    "    'h_index_first_5yrs': h_index in the 5th years of the career.\n",
    "\n",
    "Y:\n",
    "    'cited_first_10yrs': cited_by_count in the first 10 years of the career.\n",
    "    'cited_6to10yrs': cited_by_count of papers published after the time of prediction."
   ]
  },
  {
   "cell_type": "code",
   "execution_count": 31,
   "metadata": {},
   "outputs": [
    {
     "name": "stdout",
     "output_type": "stream",
     "text": [
      "Number of valid data for plotting: 39\n"
     ]
    },
    {
     "data": {
      "image/png": "[encoded data removed]",
      "text/plain": [
       "<Figure size 1200x600 with 8 Axes>"
      ]
     },
     "metadata": {},
     "output_type": "display_data"
    }
   ],
   "source": [
    "from scipy.stats import pearsonr\n",
    "\n",
    "authors_valid_2=authors_df[(authors_df['h_index_first_5yrs']>=0)]\n",
    "print(f'Number of valid data for plotting: {authors_valid_2.shape[0]}')\n",
    "\n",
    "# Calculate the square root of the cited_by_count\n",
    "XX = authors_valid_2[['cited_first_5yrs', 'works_first_5yrs', 'cited_per_work_first_5yrs', 'h_index_first_5yrs']].copy()\n",
    "YY = authors_valid_2[['cited_first_10yrs', 'cited_6to10yrs']].copy()\n",
    "XX[['cited_first_5yrs']] = XX[['cited_first_5yrs']].apply(np.sqrt)\n",
    "YY = YY.apply(np.sqrt)\n",
    "\n",
    "# Plot scattered graphs for all combinations of XX and YY\n",
    "fig, axs = plt.subplots(nrows=2, ncols=4, figsize=(12, 6))\n",
    "\n",
    "for i, x_col in enumerate(XX.columns):\n",
    "    for j, y_col in enumerate(YY.columns):\n",
    "        ax = axs[j, i]\n",
    "        ax.scatter(XX[x_col], YY[y_col], marker='x')\n",
    "        ax.set_xlabel(x_col)\n",
    "        ax.set_ylabel(y_col)\n",
    "        ax.set_xlim(left=0)\n",
    "        ax.set_ylim(bottom=0)\n",
    "\n",
    "        # Compute correlation coefficient (r)\n",
    "        r, p_value = pearsonr(XX[x_col], YY[y_col])\n",
    "        ax.text(0.05, 0.95, f'r = {r:.2f}, p_value = {p_value:.3f}', transform=ax.transAxes, ha='left', va='top')\n",
    "\n",
    "plt.tight_layout()\n",
    "plt.show()"
   ]
  },
  {
   "cell_type": "markdown",
   "metadata": {},
   "source": [
    "- (Row 1) キャリアの5年目の論文指標を利用し、10年目の総被引用数を予測するときには、sqrt(cited_first_5yrs)とh_index_first_5yrs（最初の5年の被引用数の平方根と第5年のh-index）は最も有用な指標である。\n",
    "- (Row 2) さらに、キャリアの5年目の論文指標を利用し、5年目以降発表した論文の総被引用数を予測するときには、h_index_first_5yrsは最もいい予測指標である。"
   ]
  },
  {
   "cell_type": "markdown",
   "metadata": {},
   "source": [
    "# Playground"
   ]
  },
  {
   "cell_type": "markdown",
   "metadata": {},
   "source": [
    "## 5. 大学別h-index高い順に並べる"
   ]
  },
  {
   "cell_type": "code",
   "execution_count": 32,
   "metadata": {},
   "outputs": [
    {
     "data": {
      "text/html": [
       "<div>\n",
       "<style scoped>\n",
       "    .dataframe tbody tr th:only-of-type {\n",
       "        vertical-align: middle;\n",
       "    }\n",
       "\n",
       "    .dataframe tbody tr th {\n",
       "        vertical-align: top;\n",
       "    }\n",
       "\n",
       "    .dataframe thead th {\n",
       "        text-align: right;\n",
       "    }\n",
       "</style>\n",
       "<table border=\"1\" class=\"dataframe\">\n",
       "  <thead>\n",
       "    <tr style=\"text-align: right;\">\n",
       "      <th></th>\n",
       "      <th>display_name</th>\n",
       "      <th>country_code</th>\n",
       "      <th>works_count</th>\n",
       "      <th>cited_by_count</th>\n",
       "      <th>h_index</th>\n",
       "    </tr>\n",
       "  </thead>\n",
       "  <tbody>\n",
       "    <tr>\n",
       "      <th>0</th>\n",
       "      <td>Harvard University</td>\n",
       "      <td>US</td>\n",
       "      <td>587541</td>\n",
       "      <td>34233000</td>\n",
       "      <td>1533</td>\n",
       "    </tr>\n",
       "    <tr>\n",
       "      <th>1</th>\n",
       "      <td>Stanford University</td>\n",
       "      <td>US</td>\n",
       "      <td>404814</td>\n",
       "      <td>20539231</td>\n",
       "      <td>1299</td>\n",
       "    </tr>\n",
       "    <tr>\n",
       "      <th>2</th>\n",
       "      <td>Massachusetts Institute of Technology</td>\n",
       "      <td>US</td>\n",
       "      <td>270986</td>\n",
       "      <td>15461728</td>\n",
       "      <td>1198</td>\n",
       "    </tr>\n",
       "    <tr>\n",
       "      <th>3</th>\n",
       "      <td>Howard Hughes Medical Institute</td>\n",
       "      <td>US</td>\n",
       "      <td>82758</td>\n",
       "      <td>11935082</td>\n",
       "      <td>1180</td>\n",
       "    </tr>\n",
       "    <tr>\n",
       "      <th>4</th>\n",
       "      <td>University of California, Berkeley</td>\n",
       "      <td>US</td>\n",
       "      <td>337646</td>\n",
       "      <td>16283225</td>\n",
       "      <td>1123</td>\n",
       "    </tr>\n",
       "    <tr>\n",
       "      <th>5</th>\n",
       "      <td>University of Washington</td>\n",
       "      <td>US</td>\n",
       "      <td>408778</td>\n",
       "      <td>16333769</td>\n",
       "      <td>1075</td>\n",
       "    </tr>\n",
       "    <tr>\n",
       "      <th>6</th>\n",
       "      <td>National Institutes of Health</td>\n",
       "      <td>US</td>\n",
       "      <td>235874</td>\n",
       "      <td>14733841</td>\n",
       "      <td>1066</td>\n",
       "    </tr>\n",
       "    <tr>\n",
       "      <th>7</th>\n",
       "      <td>Johns Hopkins University</td>\n",
       "      <td>US</td>\n",
       "      <td>374819</td>\n",
       "      <td>16328388</td>\n",
       "      <td>1061</td>\n",
       "    </tr>\n",
       "    <tr>\n",
       "      <th>8</th>\n",
       "      <td>University of Michigan–Ann Arbor</td>\n",
       "      <td>US</td>\n",
       "      <td>861048</td>\n",
       "      <td>16487312</td>\n",
       "      <td>1035</td>\n",
       "    </tr>\n",
       "    <tr>\n",
       "      <th>9</th>\n",
       "      <td>French National Centre for Scientific Research</td>\n",
       "      <td>FR</td>\n",
       "      <td>1038113</td>\n",
       "      <td>29837510</td>\n",
       "      <td>1032</td>\n",
       "    </tr>\n",
       "  </tbody>\n",
       "</table>\n",
       "</div>"
      ],
      "text/plain": [
       "                                     display_name country_code  works_count  \\\n",
       "0                              Harvard University           US       587541   \n",
       "1                             Stanford University           US       404814   \n",
       "2           Massachusetts Institute of Technology           US       270986   \n",
       "3                 Howard Hughes Medical Institute           US        82758   \n",
       "4              University of California, Berkeley           US       337646   \n",
       "5                        University of Washington           US       408778   \n",
       "6                   National Institutes of Health           US       235874   \n",
       "7                        Johns Hopkins University           US       374819   \n",
       "8                University of Michigan–Ann Arbor           US       861048   \n",
       "9  French National Centre for Scientific Research           FR      1038113   \n",
       "\n",
       "   cited_by_count  h_index  \n",
       "0        34233000     1533  \n",
       "1        20539231     1299  \n",
       "2        15461728     1198  \n",
       "3        11935082     1180  \n",
       "4        16283225     1123  \n",
       "5        16333769     1075  \n",
       "6        14733841     1066  \n",
       "7        16328388     1061  \n",
       "8        16487312     1035  \n",
       "9        29837510     1032  "
      ]
     },
     "metadata": {},
     "output_type": "display_data"
    }
   ],
   "source": [
    "# 世界中の大学のh-indexランキング\n",
    "ins_json = Institutions().select(['display_name','country_code','works_count','cited_by_count','summary_stats'])\\\n",
    "                         .sort(summary_stats={'h_index':'desc'}).get(per_page=10)\n",
    "ins_df = pd.DataFrame(ins_json)\n",
    "\n",
    "# Get h-index\n",
    "ins_df['h_index'] = ins_df['summary_stats'].apply(lambda x:x['h_index'])\n",
    "ins_df = ins_df.drop(columns=['summary_stats'])\n",
    "\n",
    "display(ins_df)"
   ]
  },
  {
   "cell_type": "code",
   "execution_count": 33,
   "metadata": {},
   "outputs": [
    {
     "data": {
      "text/html": [
       "<div>\n",
       "<style scoped>\n",
       "    .dataframe tbody tr th:only-of-type {\n",
       "        vertical-align: middle;\n",
       "    }\n",
       "\n",
       "    .dataframe tbody tr th {\n",
       "        vertical-align: top;\n",
       "    }\n",
       "\n",
       "    .dataframe thead th {\n",
       "        text-align: right;\n",
       "    }\n",
       "</style>\n",
       "<table border=\"1\" class=\"dataframe\">\n",
       "  <thead>\n",
       "    <tr style=\"text-align: right;\">\n",
       "      <th></th>\n",
       "      <th>display_name</th>\n",
       "      <th>Japanese_name</th>\n",
       "      <th>works_count</th>\n",
       "      <th>cited_by_count</th>\n",
       "      <th>h_index</th>\n",
       "    </tr>\n",
       "  </thead>\n",
       "  <tbody>\n",
       "    <tr>\n",
       "      <th>0</th>\n",
       "      <td>The University of Tokyo</td>\n",
       "      <td>東京大学</td>\n",
       "      <td>402483</td>\n",
       "      <td>9996029</td>\n",
       "      <td>727</td>\n",
       "    </tr>\n",
       "    <tr>\n",
       "      <th>1</th>\n",
       "      <td>Kyoto University</td>\n",
       "      <td>京都大学</td>\n",
       "      <td>288894</td>\n",
       "      <td>7182048</td>\n",
       "      <td>646</td>\n",
       "    </tr>\n",
       "    <tr>\n",
       "      <th>2</th>\n",
       "      <td>Osaka University</td>\n",
       "      <td>大阪大学</td>\n",
       "      <td>246620</td>\n",
       "      <td>5589600</td>\n",
       "      <td>598</td>\n",
       "    </tr>\n",
       "    <tr>\n",
       "      <th>3</th>\n",
       "      <td>Japan Science and Technology Agency</td>\n",
       "      <td>-</td>\n",
       "      <td>52289</td>\n",
       "      <td>2651415</td>\n",
       "      <td>544</td>\n",
       "    </tr>\n",
       "    <tr>\n",
       "      <th>4</th>\n",
       "      <td>Tohoku University</td>\n",
       "      <td>東北大学</td>\n",
       "      <td>229793</td>\n",
       "      <td>4516434</td>\n",
       "      <td>493</td>\n",
       "    </tr>\n",
       "    <tr>\n",
       "      <th>5</th>\n",
       "      <td>Nagoya University</td>\n",
       "      <td>名古屋大学</td>\n",
       "      <td>170585</td>\n",
       "      <td>3378102</td>\n",
       "      <td>436</td>\n",
       "    </tr>\n",
       "    <tr>\n",
       "      <th>6</th>\n",
       "      <td>Kyushu University</td>\n",
       "      <td>九州大学</td>\n",
       "      <td>190124</td>\n",
       "      <td>3217406</td>\n",
       "      <td>420</td>\n",
       "    </tr>\n",
       "    <tr>\n",
       "      <th>7</th>\n",
       "      <td>National Institute of Advanced Industrial Scie...</td>\n",
       "      <td>産業技術総合研究所</td>\n",
       "      <td>80003</td>\n",
       "      <td>1890066</td>\n",
       "      <td>392</td>\n",
       "    </tr>\n",
       "    <tr>\n",
       "      <th>8</th>\n",
       "      <td>Tokyo Institute of Technology</td>\n",
       "      <td>東京工業大学</td>\n",
       "      <td>140341</td>\n",
       "      <td>2549463</td>\n",
       "      <td>391</td>\n",
       "    </tr>\n",
       "    <tr>\n",
       "      <th>9</th>\n",
       "      <td>Tokyo University of Science</td>\n",
       "      <td>東京理科大学</td>\n",
       "      <td>76864</td>\n",
       "      <td>1794774</td>\n",
       "      <td>389</td>\n",
       "    </tr>\n",
       "  </tbody>\n",
       "</table>\n",
       "</div>"
      ],
      "text/plain": [
       "                                        display_name Japanese_name  \\\n",
       "0                            The University of Tokyo          東京大学   \n",
       "1                                   Kyoto University          京都大学   \n",
       "2                                   Osaka University          大阪大学   \n",
       "3                Japan Science and Technology Agency             -   \n",
       "4                                  Tohoku University          東北大学   \n",
       "5                                  Nagoya University         名古屋大学   \n",
       "6                                  Kyushu University          九州大学   \n",
       "7  National Institute of Advanced Industrial Scie...     産業技術総合研究所   \n",
       "8                      Tokyo Institute of Technology        東京工業大学   \n",
       "9                        Tokyo University of Science        東京理科大学   \n",
       "\n",
       "   works_count  cited_by_count  h_index  \n",
       "0       402483         9996029      727  \n",
       "1       288894         7182048      646  \n",
       "2       246620         5589600      598  \n",
       "3        52289         2651415      544  \n",
       "4       229793         4516434      493  \n",
       "5       170585         3378102      436  \n",
       "6       190124         3217406      420  \n",
       "7        80003         1890066      392  \n",
       "8       140341         2549463      391  \n",
       "9        76864         1794774      389  "
      ]
     },
     "metadata": {},
     "output_type": "display_data"
    }
   ],
   "source": [
    "# 日本の大学のh-indexランキング\n",
    "ins_json = Institutions().select(['display_name','international','works_count','cited_by_count','summary_stats'])\\\n",
    "                         .filter(country_code='JP')\\\n",
    "                         .sort(summary_stats={'h_index':'desc'}).get(per_page=10)\n",
    "ins_df = pd.DataFrame(ins_json)\n",
    "\n",
    "# Get h-index\n",
    "ins_df['h_index'] = ins_df['summary_stats'].apply(lambda x:x['h_index'])\n",
    "ins_df = ins_df.drop(columns=['summary_stats'])\n",
    "\n",
    "# Get Japanese name\n",
    "jp_name = [entry['international']['display_name'].get('ja','-') for entry in ins_json]\n",
    "ins_df['Japanese_name'] = jp_name\n",
    "ins_df = ins_df.drop(columns=['international'])\n",
    "ins_df.insert(ins_df.columns.get_loc('display_name') + 1, 'Japanese_name', ins_df.pop('Japanese_name'))\n",
    "\n",
    "display(ins_df)"
   ]
  },
  {
   "cell_type": "markdown",
   "metadata": {},
   "source": [
    "## 6. 個人のh-indexを時系列でプロット"
   ]
  },
  {
   "cell_type": "markdown",
   "metadata": {},
   "source": [
    "Section2と似ているようなプロセスで、ある研究者のh-indexを時系列でプロットします。  \n",
    "OpenAlexのデータの制限により、時系列は2011年から2024までだけができます。"
   ]
  },
  {
   "cell_type": "code",
   "execution_count": 34,
   "metadata": {},
   "outputs": [
    {
     "data": {
      "text/html": [
       "<div>\n",
       "<style scoped>\n",
       "    .dataframe tbody tr th:only-of-type {\n",
       "        vertical-align: middle;\n",
       "    }\n",
       "\n",
       "    .dataframe tbody tr th {\n",
       "        vertical-align: top;\n",
       "    }\n",
       "\n",
       "    .dataframe thead th {\n",
       "        text-align: right;\n",
       "    }\n",
       "</style>\n",
       "<table border=\"1\" class=\"dataframe\">\n",
       "  <thead>\n",
       "    <tr style=\"text-align: right;\">\n",
       "      <th></th>\n",
       "      <th>id</th>\n",
       "      <th>display_name</th>\n",
       "      <th>relevance_score</th>\n",
       "      <th>works_count</th>\n",
       "      <th>cited_by_count</th>\n",
       "      <th>2yr_mean_citedness</th>\n",
       "      <th>h_index</th>\n",
       "      <th>i10_index</th>\n",
       "    </tr>\n",
       "  </thead>\n",
       "  <tbody>\n",
       "    <tr>\n",
       "      <th>0</th>\n",
       "      <td>https://openalex.org/A5036688434</td>\n",
       "      <td>J. E. Hirsch</td>\n",
       "      <td>11917.848000</td>\n",
       "      <td>466</td>\n",
       "      <td>31822</td>\n",
       "      <td>1.875</td>\n",
       "      <td>69</td>\n",
       "      <td>249</td>\n",
       "    </tr>\n",
       "    <tr>\n",
       "      <th>1</th>\n",
       "      <td>https://openalex.org/A5072780714</td>\n",
       "      <td>J. E. Hirsch</td>\n",
       "      <td>655.623660</td>\n",
       "      <td>4</td>\n",
       "      <td>79</td>\n",
       "      <td>0.000</td>\n",
       "      <td>3</td>\n",
       "      <td>2</td>\n",
       "    </tr>\n",
       "    <tr>\n",
       "      <th>2</th>\n",
       "      <td>https://openalex.org/A5005488196</td>\n",
       "      <td>J. E. Hirsch</td>\n",
       "      <td>33.365334</td>\n",
       "      <td>1</td>\n",
       "      <td>0</td>\n",
       "      <td>0.000</td>\n",
       "      <td>0</td>\n",
       "      <td>0</td>\n",
       "    </tr>\n",
       "    <tr>\n",
       "      <th>3</th>\n",
       "      <td>https://openalex.org/A5031101292</td>\n",
       "      <td>J. E. Hirsch</td>\n",
       "      <td>33.351562</td>\n",
       "      <td>1</td>\n",
       "      <td>0</td>\n",
       "      <td>0.000</td>\n",
       "      <td>0</td>\n",
       "      <td>0</td>\n",
       "    </tr>\n",
       "    <tr>\n",
       "      <th>4</th>\n",
       "      <td>https://openalex.org/A5039441333</td>\n",
       "      <td>J. E. Hirsch</td>\n",
       "      <td>33.351562</td>\n",
       "      <td>1</td>\n",
       "      <td>0</td>\n",
       "      <td>0.000</td>\n",
       "      <td>0</td>\n",
       "      <td>0</td>\n",
       "    </tr>\n",
       "  </tbody>\n",
       "</table>\n",
       "</div>"
      ],
      "text/plain": [
       "                                 id  display_name  relevance_score  \\\n",
       "0  https://openalex.org/A5036688434  J. E. Hirsch     11917.848000   \n",
       "1  https://openalex.org/A5072780714  J. E. Hirsch       655.623660   \n",
       "2  https://openalex.org/A5005488196  J. E. Hirsch        33.365334   \n",
       "3  https://openalex.org/A5031101292  J. E. Hirsch        33.351562   \n",
       "4  https://openalex.org/A5039441333  J. E. Hirsch        33.351562   \n",
       "\n",
       "   works_count  cited_by_count  2yr_mean_citedness  h_index  i10_index  \n",
       "0          466           31822               1.875       69        249  \n",
       "1            4              79               0.000        3          2  \n",
       "2            1               0               0.000        0          0  \n",
       "3            1               0               0.000        0          0  \n",
       "4            1               0               0.000        0          0  "
      ]
     },
     "metadata": {},
     "output_type": "display_data"
    }
   ],
   "source": [
    "# 著者を検索します\n",
    "name = \"J. E. Hirsch\"\n",
    "\n",
    "auth_json = Authors().search_filter(display_name=name)\\\n",
    "            .select([\"id\",\"display_name\",\"relevance_score\",\"works_count\",\"cited_by_count\",\"summary_stats\"]).get()\n",
    "auth_df = pd.DataFrame(auth_json)\n",
    "auth_df = auth_df.join(pd.DataFrame(auth_df['summary_stats'].tolist()))\n",
    "auth_df = auth_df.drop(columns=['summary_stats'])\n",
    "\n",
    "display(auth_df.head())"
   ]
  },
  {
   "cell_type": "code",
   "execution_count": 35,
   "metadata": {},
   "outputs": [
    {
     "name": "stdout",
     "output_type": "stream",
     "text": [
      "https://openalex.org/A5036688434\n",
      "\n",
      "Last known institutions of the select author:\n",
      "['University of California, San Diego']\n",
      "\n",
      "Concepts of the select author:\n",
      "['Physics',\n",
      " 'Quantum mechanics',\n",
      " 'Condensed matter physics',\n",
      " 'Superconductivity',\n",
      " 'Mathematics',\n",
      " 'Materials science',\n",
      " 'Nuclear physics',\n",
      " 'Chemistry',\n",
      " 'Engineering',\n",
      " 'Electron',\n",
      " 'Thermodynamics',\n",
      " 'Organic chemistry',\n",
      " 'Computer science',\n",
      " 'Medicine',\n",
      " 'Biology',\n",
      " 'Statistics']\n"
     ]
    }
   ],
   "source": [
    "# 検索結果から著者を指定します\n",
    "i = 0\n",
    "auth_id = auth_df.loc[i,\"id\"]\n",
    "print(auth_id)\n",
    "auth_name = auth_df.loc[i,\"display_name\"]\n",
    "\n",
    "# 著者データを確認します\n",
    "data = Authors()[auth_id]\n",
    "# 著者の最新の所属機関\n",
    "institutions = [entry['display_name'] for entry in data['last_known_institutions']]\n",
    "print('\\nLast known institutions of the select author:')\n",
    "pprint(institutions)\n",
    "# 著者が発表した論文のテーマ\n",
    "concepts = [entry['display_name'] for entry in data['x_concepts']]\n",
    "print('\\nConcepts of the select author:')\n",
    "pprint(concepts)"
   ]
  },
  {
   "cell_type": "code",
   "execution_count": 36,
   "metadata": {},
   "outputs": [
    {
     "name": "stdout",
     "output_type": "stream",
     "text": [
      "Fetching 467 objects. it may takes 0.04 to 0.12 minutes\n"
     ]
    },
    {
     "name": "stderr",
     "output_type": "stream",
     "text": [
      "4it [00:04,  1.07s/it]\n"
     ]
    },
    {
     "data": {
      "image/png": "[encoded data removed]",
      "text/plain": [
       "<Figure size 1200x400 with 3 Axes>"
      ]
     },
     "metadata": {},
     "output_type": "display_data"
    }
   ],
   "source": [
    "pyalexObj = Works().filter(author={\"id\":auth_id},is_paratext=False)\\\n",
    "                   .select(['cited_by_count','counts_by_year','publication_year'])\\\n",
    "                   .sort(publication_year=\"asc\")\n",
    "works_json = util.getAll(pyalexObj)\n",
    "\n",
    "first_publication_year = works_json[0][\"publication_year\"] \n",
    "indices = pd.DataFrame(index=range(max(first_publication_year, 2011), 2025),\n",
    "                         columns = ['works_count','cited_by_count','h_index'])\n",
    "\n",
    "# Calculate h-index for each year\n",
    "for year in range(max(first_publication_year, 2011), 2025):\n",
    "    citations = get_citations(works_json, first_publication_year, year)\n",
    "    indices.loc[year,'works_count']=len(citations)\n",
    "    indices.loc[year,'cited_by_count']=sum(citations)\n",
    "    indices.loc[year,'h_index']=calculate_h_index(citations)\n",
    "\n",
    "# Create a figure and axes for subplots\n",
    "fig, axs = plt.subplots(1, 3, figsize=(12, 4))\n",
    "\n",
    "for i, col in enumerate(indices.columns):\n",
    "        ax = axs[i]\n",
    "        ax.plot(indices.index, indices[col])\n",
    "        ax.set_xlabel('Year')\n",
    "        ax.set_ylabel('Index')\n",
    "        ax.set_title(col)\n",
    "        ax.set_xticks(indices.index[::5])\n",
    "\n",
    "plt.tight_layout()\n",
    "plt.show()"
   ]
  }
 ],
 "metadata": {
  "kernelspec": {
   "display_name": "Python 3",
   "language": "python",
   "name": "python3"
  },
  "language_info": {
   "codemirror_mode": {
    "name": "ipython",
    "version": 3
   },
   "file_extension": ".py",
   "mimetype": "text/x-python",
   "name": "python",
   "nbconvert_exporter": "python",
   "pygments_lexer": "ipython3",
   "version": "3.10.12"
  }
 },
 "nbformat": 4,
 "nbformat_minor": 2
}
