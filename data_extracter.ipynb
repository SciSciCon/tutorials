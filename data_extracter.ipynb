{
 "cells": [
  {
   "cell_type": "code",
   "execution_count": 2,
   "metadata": {},
   "outputs": [
    {
     "name": "stderr",
     "output_type": "stream",
     "text": [
      "/Users/ti/Library/Python/3.9/lib/python/site-packages/urllib3/__init__.py:34: NotOpenSSLWarning: urllib3 v2.0 only supports OpenSSL 1.1.1+, currently the 'ssl' module is compiled with 'LibreSSL 2.8.3'. See: https://github.com/urllib3/urllib3/issues/3020\n",
      "  warnings.warn(\n"
     ]
    }
   ],
   "source": [
    "# %pip install pyalex \n",
    "import pandas as pd\n",
    "from pyalex import Works, Authors, Sources, Institutions, Concepts, Funders\n",
    "import pyalex\n",
    "import matplotlib.pyplot as plt\n",
    "import math\n",
    "import numpy as np\n",
    "import util\n",
    "import tqdm\n",
    "# pyalex.config.email = \"your@email.address\"\n",
    "pyalex.config.email = \"zhmuler@gmail.com\""
   ]
  },
  {
   "cell_type": "code",
   "execution_count": null,
   "metadata": {},
   "outputs": [],
   "source": [
    "ids = util.getAll(Authors().sample(1000, seed=42).select([\"id\"]))\n",
    "\n",
    "authors = []\n",
    "for id in tqdm.tqdm(ids):\n",
    "    year = Works().filter(author={\"id\":id[\"id\"]}).select([\"publication_year\"])\\\n",
    "            .sort(publication_year=\"asc\") \\\n",
    "            .get()\n",
    "    if(len(year)>0):\n",
    "        authors.append({\"id\":id[\"id\"],\"year\":year[0][\"publication_year\"]})\n",
    "authors = pd.DataFrame(authors)\n",
    "\n",
    "pd.to_pickle(authors, \"./sample_data/career_age.pickle\")"
   ]
  },
  {
   "cell_type": "code",
   "execution_count": 6,
   "metadata": {},
   "outputs": [
    {
     "name": "stderr",
     "output_type": "stream",
     "text": [
      "50it [00:55,  1.12s/it]\n",
      "8it [00:08,  1.11s/it]\n",
      "50it [00:55,  1.10s/it]\n",
      "14it [00:15,  1.08s/it]\n",
      "16it [00:16,  1.05s/it]\n",
      "50it [00:53,  1.07s/it]\n",
      "50it [00:49,  1.00it/s]\n",
      "10it [00:10,  1.07s/it]\n",
      "50it [00:52,  1.06s/it]\n",
      "25it [00:27,  1.11s/it]\n",
      "24it [00:24,  1.04s/it]\n",
      "50it [00:55,  1.11s/it]\n",
      "50it [00:53,  1.07s/it]\n",
      "45it [00:51,  1.15s/it]\n",
      "50it [00:53,  1.07s/it]\n",
      "35it [00:46,  1.34s/it]\n",
      "50it [01:05,  1.30s/it]\n",
      "50it [00:56,  1.12s/it]\n",
      "14it [00:14,  1.07s/it]\n",
      "16it [00:17,  1.10s/it]\n",
      "50it [00:53,  1.07s/it]\n",
      "31it [00:34,  1.11s/it]\n",
      "35it [00:39,  1.12s/it]\n",
      "3it [00:03,  1.10s/it]\n",
      "14it [00:16,  1.17s/it]\n",
      "20it [00:21,  1.09s/it]\n"
     ]
    }
   ],
   "source": [
    "fields_base = pd.read_csv(\"./supplementary/domain_field_mapping.csv\").set_index(\"field_id\").drop([\"field_name\",\"domain_name\"], axis=\"columns\")\n",
    "\n",
    "for i in range(11,37):\n",
    "    pyalexObj = Works().filter(from_publication_date=\"2010-01-01\",to_publication_date=\"2014-12-31\",\\\n",
    "                                cited_by_count=\">0\",\\\n",
    "                                authorships={\"institutions\":{\"country_code\":\"JP\"}},\\\n",
    "                                primary_topic={\"field\":{\"id\":i}})\n",
    "    fields_base.loc[i, \"count\"] = pyalexObj.count()\n",
    "    sample_count = int(min(10000,fields_base.loc[i, \"count\"]))\n",
    "    if(sample_count>0):\n",
    "        citation_counts = pd.DataFrame(util.getAll(pyalexObj.sample(sample_count,seed=42).select([\"cited_by_count\"])))\n",
    "        fields_base.loc[i, \"c_avg\"] = citation_counts[\"cited_by_count\"].mean()\n",
    "\n",
    "fields_base.to_pickle(\"./supplementary/fields_base_10k_JP.pickle\")"
   ]
  },
  {
   "cell_type": "code",
   "execution_count": null,
   "metadata": {},
   "outputs": [],
   "source": []
  }
 ],
 "metadata": {
  "kernelspec": {
   "display_name": "Python 3",
   "language": "python",
   "name": "python3"
  },
  "language_info": {
   "codemirror_mode": {
    "name": "ipython",
    "version": 3
   },
   "file_extension": ".py",
   "mimetype": "text/x-python",
   "name": "python",
   "nbconvert_exporter": "python",
   "pygments_lexer": "ipython3",
   "version": "3.9.6"
  }
 },
 "nbformat": 4,
 "nbformat_minor": 2
}
